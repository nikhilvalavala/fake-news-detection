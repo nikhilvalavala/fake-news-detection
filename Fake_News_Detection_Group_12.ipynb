{
  "cells": [
    {
      "cell_type": "markdown",
      "source": [
        "## **Fake News Detection**\n",
        "Gowtham Raju A          50475997\n",
        "\n",
        "Pavithra P              50496102\n",
        "\n",
        "Nikhil Sai Sarath V     50496134"
      ],
      "metadata": {
        "id": "flf7oM1gq_G_"
      }
    },
    {
      "cell_type": "markdown",
      "metadata": {
        "id": "jd42rBtTIbgW"
      },
      "source": [
        "# Basic Setup"
      ]
    },
    {
      "cell_type": "code",
      "execution_count": 1,
      "metadata": {
        "colab": {
          "base_uri": "https://localhost:8080/"
        },
        "id": "6QlmWZvIB11o",
        "outputId": "3335f753-88ab-4a91-ef4b-c187e3bbcd4b"
      },
      "outputs": [
        {
          "output_type": "stream",
          "name": "stdout",
          "text": [
            "Mounted at /content/drive\n"
          ]
        }
      ],
      "source": [
        "from google.colab import drive\n",
        "drive.mount('/content/drive')\n",
        "\n",
        "import os\n",
        "folder_path = '/content/drive/My Drive/DL/fake_news/src'\n",
        "os.chdir(folder_path)"
      ]
    },
    {
      "cell_type": "code",
      "source": [
        "proj_dir = '/content/drive/MyDrive/DL/fake_news'\n",
        "%pwd"
      ],
      "metadata": {
        "colab": {
          "base_uri": "https://localhost:8080/",
          "height": 36
        },
        "id": "D01QR1aiflEH",
        "outputId": "cfc74954-e406-42d0-a63f-2e5b7c644769"
      },
      "execution_count": 2,
      "outputs": [
        {
          "output_type": "execute_result",
          "data": {
            "text/plain": [
              "'/content/drive/MyDrive/DL/fake_news/src'"
            ],
            "application/vnd.google.colaboratory.intrinsic+json": {
              "type": "string"
            }
          },
          "metadata": {},
          "execution_count": 2
        }
      ]
    },
    {
      "cell_type": "code",
      "execution_count": 3,
      "metadata": {
        "id": "-7AVnar_HE9j",
        "colab": {
          "base_uri": "https://localhost:8080/"
        },
        "outputId": "6d48badf-e1ff-4052-ab52-0e3475738ade"
      },
      "outputs": [
        {
          "output_type": "stream",
          "name": "stdout",
          "text": [
            "Collecting optuna\n",
            "  Downloading optuna-3.4.0-py3-none-any.whl (409 kB)\n",
            "\u001b[2K     \u001b[90m━━━━━━━━━━━━━━━━━━━━━━━━━━━━━━━━━━━━━━━━\u001b[0m \u001b[32m409.6/409.6 kB\u001b[0m \u001b[31m6.0 MB/s\u001b[0m eta \u001b[36m0:00:00\u001b[0m\n",
            "\u001b[?25hCollecting alembic>=1.5.0 (from optuna)\n",
            "  Downloading alembic-1.13.0-py3-none-any.whl (230 kB)\n",
            "\u001b[2K     \u001b[90m━━━━━━━━━━━━━━━━━━━━━━━━━━━━━━━━━━━━━━━━\u001b[0m \u001b[32m230.6/230.6 kB\u001b[0m \u001b[31m8.7 MB/s\u001b[0m eta \u001b[36m0:00:00\u001b[0m\n",
            "\u001b[?25hCollecting colorlog (from optuna)\n",
            "  Downloading colorlog-6.8.0-py3-none-any.whl (11 kB)\n",
            "Requirement already satisfied: numpy in /usr/local/lib/python3.10/dist-packages (from optuna) (1.23.5)\n",
            "Requirement already satisfied: packaging>=20.0 in /usr/local/lib/python3.10/dist-packages (from optuna) (23.2)\n",
            "Requirement already satisfied: sqlalchemy>=1.3.0 in /usr/local/lib/python3.10/dist-packages (from optuna) (2.0.23)\n",
            "Requirement already satisfied: tqdm in /usr/local/lib/python3.10/dist-packages (from optuna) (4.66.1)\n",
            "Requirement already satisfied: PyYAML in /usr/local/lib/python3.10/dist-packages (from optuna) (6.0.1)\n",
            "Collecting Mako (from alembic>=1.5.0->optuna)\n",
            "  Downloading Mako-1.3.0-py3-none-any.whl (78 kB)\n",
            "\u001b[2K     \u001b[90m━━━━━━━━━━━━━━━━━━━━━━━━━━━━━━━━━━━━━━━━\u001b[0m \u001b[32m78.6/78.6 kB\u001b[0m \u001b[31m7.7 MB/s\u001b[0m eta \u001b[36m0:00:00\u001b[0m\n",
            "\u001b[?25hRequirement already satisfied: typing-extensions>=4 in /usr/local/lib/python3.10/dist-packages (from alembic>=1.5.0->optuna) (4.5.0)\n",
            "Requirement already satisfied: greenlet!=0.4.17 in /usr/local/lib/python3.10/dist-packages (from sqlalchemy>=1.3.0->optuna) (3.0.1)\n",
            "Requirement already satisfied: MarkupSafe>=0.9.2 in /usr/local/lib/python3.10/dist-packages (from Mako->alembic>=1.5.0->optuna) (2.1.3)\n",
            "Installing collected packages: Mako, colorlog, alembic, optuna\n",
            "Successfully installed Mako-1.3.0 alembic-1.13.0 colorlog-6.8.0 optuna-3.4.0\n"
          ]
        },
        {
          "output_type": "stream",
          "name": "stderr",
          "text": [
            "[nltk_data] Downloading package stopwords to /root/nltk_data...\n",
            "[nltk_data]   Unzipping corpora/stopwords.zip.\n",
            "[nltk_data] Downloading package punkt to /root/nltk_data...\n",
            "[nltk_data]   Unzipping tokenizers/punkt.zip.\n"
          ]
        },
        {
          "output_type": "stream",
          "name": "stdout",
          "text": [
            "cuda\n"
          ]
        },
        {
          "output_type": "stream",
          "name": "stderr",
          "text": [
            "[nltk_data] Downloading package wordnet to /root/nltk_data...\n"
          ]
        }
      ],
      "source": [
        "!pip install optuna\n",
        "\n",
        "import nltk\n",
        "import torch\n",
        "import pickle\n",
        "import optuna\n",
        "import random\n",
        "import numpy as np\n",
        "import pandas as pd\n",
        "import torch.nn as nn\n",
        "import torch.optim as optim\n",
        "import matplotlib.pyplot as plt\n",
        "\n",
        "from wordcloud import WordCloud\n",
        "from nltk.tokenize import word_tokenize\n",
        "from torch.utils.data import DataLoader, TensorDataset\n",
        "from transformers import BertModel\n",
        "from imblearn.under_sampling import RandomUnderSampler\n",
        "from imblearn.over_sampling import RandomOverSampler\n",
        "from imblearn.pipeline import Pipeline\n",
        "\n",
        "nltk.download('stopwords')\n",
        "nltk.download('punkt')\n",
        "nltk.download('wordnet')\n",
        "\n",
        "device = torch.device(\"cuda\" if torch.cuda.is_available() else \"cpu\")\n",
        "print(device)"
      ]
    },
    {
      "cell_type": "markdown",
      "metadata": {
        "id": "t7rcLOc7LBOU"
      },
      "source": [
        "# 1. LSTM Model"
      ]
    },
    {
      "cell_type": "markdown",
      "source": [
        "## Load and Preprocess data"
      ],
      "metadata": {
        "id": "D54S4P96OHdE"
      }
    },
    {
      "cell_type": "code",
      "execution_count": 4,
      "metadata": {
        "id": "q7tsbKAa2p6u"
      },
      "outputs": [],
      "source": [
        "from fakenews.preprocess import combine_dataset, clean_text\n",
        "liar, fkn, lstm_df = combine_dataset(proj_dir)"
      ]
    },
    {
      "cell_type": "code",
      "execution_count": 5,
      "metadata": {
        "colab": {
          "base_uri": "https://localhost:8080/",
          "height": 423
        },
        "id": "E3Zph2i6Lhu8",
        "outputId": "c6afb06e-0617-4879-e95c-1c282283002f"
      },
      "outputs": [
        {
          "output_type": "execute_result",
          "data": {
            "text/plain": [
              "                                                    text label\n",
              "0      We have less Americans working now than in the...     1\n",
              "1      Says Having organizations parading as being so...     0\n",
              "2         Says nearly half of Oregons children are poor.     1\n",
              "3      On attacks by Republicans that various program...     1\n",
              "4      Says when armed civilians stop mass shootings ...     0\n",
              "...                                                  ...   ...\n",
              "11739  Says his budget provides the highest state fun...     1\n",
              "11740                    Ive been here almost every day.     1\n",
              "11741  In the early 1980s, Sen. Edward Kennedy secret...     1\n",
              "11742  Says an EPA permit languished under Strickland...     1\n",
              "11743  Says the governor is going around the state ta...     0\n",
              "\n",
              "[11744 rows x 2 columns]"
            ],
            "text/html": [
              "\n",
              "  <div id=\"df-fcdbe213-947d-44b0-8736-5368ff7e045f\" class=\"colab-df-container\">\n",
              "    <div>\n",
              "<style scoped>\n",
              "    .dataframe tbody tr th:only-of-type {\n",
              "        vertical-align: middle;\n",
              "    }\n",
              "\n",
              "    .dataframe tbody tr th {\n",
              "        vertical-align: top;\n",
              "    }\n",
              "\n",
              "    .dataframe thead th {\n",
              "        text-align: right;\n",
              "    }\n",
              "</style>\n",
              "<table border=\"1\" class=\"dataframe\">\n",
              "  <thead>\n",
              "    <tr style=\"text-align: right;\">\n",
              "      <th></th>\n",
              "      <th>text</th>\n",
              "      <th>label</th>\n",
              "    </tr>\n",
              "  </thead>\n",
              "  <tbody>\n",
              "    <tr>\n",
              "      <th>0</th>\n",
              "      <td>We have less Americans working now than in the...</td>\n",
              "      <td>1</td>\n",
              "    </tr>\n",
              "    <tr>\n",
              "      <th>1</th>\n",
              "      <td>Says Having organizations parading as being so...</td>\n",
              "      <td>0</td>\n",
              "    </tr>\n",
              "    <tr>\n",
              "      <th>2</th>\n",
              "      <td>Says nearly half of Oregons children are poor.</td>\n",
              "      <td>1</td>\n",
              "    </tr>\n",
              "    <tr>\n",
              "      <th>3</th>\n",
              "      <td>On attacks by Republicans that various program...</td>\n",
              "      <td>1</td>\n",
              "    </tr>\n",
              "    <tr>\n",
              "      <th>4</th>\n",
              "      <td>Says when armed civilians stop mass shootings ...</td>\n",
              "      <td>0</td>\n",
              "    </tr>\n",
              "    <tr>\n",
              "      <th>...</th>\n",
              "      <td>...</td>\n",
              "      <td>...</td>\n",
              "    </tr>\n",
              "    <tr>\n",
              "      <th>11739</th>\n",
              "      <td>Says his budget provides the highest state fun...</td>\n",
              "      <td>1</td>\n",
              "    </tr>\n",
              "    <tr>\n",
              "      <th>11740</th>\n",
              "      <td>Ive been here almost every day.</td>\n",
              "      <td>1</td>\n",
              "    </tr>\n",
              "    <tr>\n",
              "      <th>11741</th>\n",
              "      <td>In the early 1980s, Sen. Edward Kennedy secret...</td>\n",
              "      <td>1</td>\n",
              "    </tr>\n",
              "    <tr>\n",
              "      <th>11742</th>\n",
              "      <td>Says an EPA permit languished under Strickland...</td>\n",
              "      <td>1</td>\n",
              "    </tr>\n",
              "    <tr>\n",
              "      <th>11743</th>\n",
              "      <td>Says the governor is going around the state ta...</td>\n",
              "      <td>0</td>\n",
              "    </tr>\n",
              "  </tbody>\n",
              "</table>\n",
              "<p>11744 rows × 2 columns</p>\n",
              "</div>\n",
              "    <div class=\"colab-df-buttons\">\n",
              "\n",
              "  <div class=\"colab-df-container\">\n",
              "    <button class=\"colab-df-convert\" onclick=\"convertToInteractive('df-fcdbe213-947d-44b0-8736-5368ff7e045f')\"\n",
              "            title=\"Convert this dataframe to an interactive table.\"\n",
              "            style=\"display:none;\">\n",
              "\n",
              "  <svg xmlns=\"http://www.w3.org/2000/svg\" height=\"24px\" viewBox=\"0 -960 960 960\">\n",
              "    <path d=\"M120-120v-720h720v720H120Zm60-500h600v-160H180v160Zm220 220h160v-160H400v160Zm0 220h160v-160H400v160ZM180-400h160v-160H180v160Zm440 0h160v-160H620v160ZM180-180h160v-160H180v160Zm440 0h160v-160H620v160Z\"/>\n",
              "  </svg>\n",
              "    </button>\n",
              "\n",
              "  <style>\n",
              "    .colab-df-container {\n",
              "      display:flex;\n",
              "      gap: 12px;\n",
              "    }\n",
              "\n",
              "    .colab-df-convert {\n",
              "      background-color: #E8F0FE;\n",
              "      border: none;\n",
              "      border-radius: 50%;\n",
              "      cursor: pointer;\n",
              "      display: none;\n",
              "      fill: #1967D2;\n",
              "      height: 32px;\n",
              "      padding: 0 0 0 0;\n",
              "      width: 32px;\n",
              "    }\n",
              "\n",
              "    .colab-df-convert:hover {\n",
              "      background-color: #E2EBFA;\n",
              "      box-shadow: 0px 1px 2px rgba(60, 64, 67, 0.3), 0px 1px 3px 1px rgba(60, 64, 67, 0.15);\n",
              "      fill: #174EA6;\n",
              "    }\n",
              "\n",
              "    .colab-df-buttons div {\n",
              "      margin-bottom: 4px;\n",
              "    }\n",
              "\n",
              "    [theme=dark] .colab-df-convert {\n",
              "      background-color: #3B4455;\n",
              "      fill: #D2E3FC;\n",
              "    }\n",
              "\n",
              "    [theme=dark] .colab-df-convert:hover {\n",
              "      background-color: #434B5C;\n",
              "      box-shadow: 0px 1px 3px 1px rgba(0, 0, 0, 0.15);\n",
              "      filter: drop-shadow(0px 1px 2px rgba(0, 0, 0, 0.3));\n",
              "      fill: #FFFFFF;\n",
              "    }\n",
              "  </style>\n",
              "\n",
              "    <script>\n",
              "      const buttonEl =\n",
              "        document.querySelector('#df-fcdbe213-947d-44b0-8736-5368ff7e045f button.colab-df-convert');\n",
              "      buttonEl.style.display =\n",
              "        google.colab.kernel.accessAllowed ? 'block' : 'none';\n",
              "\n",
              "      async function convertToInteractive(key) {\n",
              "        const element = document.querySelector('#df-fcdbe213-947d-44b0-8736-5368ff7e045f');\n",
              "        const dataTable =\n",
              "          await google.colab.kernel.invokeFunction('convertToInteractive',\n",
              "                                                    [key], {});\n",
              "        if (!dataTable) return;\n",
              "\n",
              "        const docLinkHtml = 'Like what you see? Visit the ' +\n",
              "          '<a target=\"_blank\" href=https://colab.research.google.com/notebooks/data_table.ipynb>data table notebook</a>'\n",
              "          + ' to learn more about interactive tables.';\n",
              "        element.innerHTML = '';\n",
              "        dataTable['output_type'] = 'display_data';\n",
              "        await google.colab.output.renderOutput(dataTable, element);\n",
              "        const docLink = document.createElement('div');\n",
              "        docLink.innerHTML = docLinkHtml;\n",
              "        element.appendChild(docLink);\n",
              "      }\n",
              "    </script>\n",
              "  </div>\n",
              "\n",
              "\n",
              "<div id=\"df-a485764c-dd55-48c0-8021-872064cb0f1a\">\n",
              "  <button class=\"colab-df-quickchart\" onclick=\"quickchart('df-a485764c-dd55-48c0-8021-872064cb0f1a')\"\n",
              "            title=\"Suggest charts\"\n",
              "            style=\"display:none;\">\n",
              "\n",
              "<svg xmlns=\"http://www.w3.org/2000/svg\" height=\"24px\"viewBox=\"0 0 24 24\"\n",
              "     width=\"24px\">\n",
              "    <g>\n",
              "        <path d=\"M19 3H5c-1.1 0-2 .9-2 2v14c0 1.1.9 2 2 2h14c1.1 0 2-.9 2-2V5c0-1.1-.9-2-2-2zM9 17H7v-7h2v7zm4 0h-2V7h2v10zm4 0h-2v-4h2v4z\"/>\n",
              "    </g>\n",
              "</svg>\n",
              "  </button>\n",
              "\n",
              "<style>\n",
              "  .colab-df-quickchart {\n",
              "      --bg-color: #E8F0FE;\n",
              "      --fill-color: #1967D2;\n",
              "      --hover-bg-color: #E2EBFA;\n",
              "      --hover-fill-color: #174EA6;\n",
              "      --disabled-fill-color: #AAA;\n",
              "      --disabled-bg-color: #DDD;\n",
              "  }\n",
              "\n",
              "  [theme=dark] .colab-df-quickchart {\n",
              "      --bg-color: #3B4455;\n",
              "      --fill-color: #D2E3FC;\n",
              "      --hover-bg-color: #434B5C;\n",
              "      --hover-fill-color: #FFFFFF;\n",
              "      --disabled-bg-color: #3B4455;\n",
              "      --disabled-fill-color: #666;\n",
              "  }\n",
              "\n",
              "  .colab-df-quickchart {\n",
              "    background-color: var(--bg-color);\n",
              "    border: none;\n",
              "    border-radius: 50%;\n",
              "    cursor: pointer;\n",
              "    display: none;\n",
              "    fill: var(--fill-color);\n",
              "    height: 32px;\n",
              "    padding: 0;\n",
              "    width: 32px;\n",
              "  }\n",
              "\n",
              "  .colab-df-quickchart:hover {\n",
              "    background-color: var(--hover-bg-color);\n",
              "    box-shadow: 0 1px 2px rgba(60, 64, 67, 0.3), 0 1px 3px 1px rgba(60, 64, 67, 0.15);\n",
              "    fill: var(--button-hover-fill-color);\n",
              "  }\n",
              "\n",
              "  .colab-df-quickchart-complete:disabled,\n",
              "  .colab-df-quickchart-complete:disabled:hover {\n",
              "    background-color: var(--disabled-bg-color);\n",
              "    fill: var(--disabled-fill-color);\n",
              "    box-shadow: none;\n",
              "  }\n",
              "\n",
              "  .colab-df-spinner {\n",
              "    border: 2px solid var(--fill-color);\n",
              "    border-color: transparent;\n",
              "    border-bottom-color: var(--fill-color);\n",
              "    animation:\n",
              "      spin 1s steps(1) infinite;\n",
              "  }\n",
              "\n",
              "  @keyframes spin {\n",
              "    0% {\n",
              "      border-color: transparent;\n",
              "      border-bottom-color: var(--fill-color);\n",
              "      border-left-color: var(--fill-color);\n",
              "    }\n",
              "    20% {\n",
              "      border-color: transparent;\n",
              "      border-left-color: var(--fill-color);\n",
              "      border-top-color: var(--fill-color);\n",
              "    }\n",
              "    30% {\n",
              "      border-color: transparent;\n",
              "      border-left-color: var(--fill-color);\n",
              "      border-top-color: var(--fill-color);\n",
              "      border-right-color: var(--fill-color);\n",
              "    }\n",
              "    40% {\n",
              "      border-color: transparent;\n",
              "      border-right-color: var(--fill-color);\n",
              "      border-top-color: var(--fill-color);\n",
              "    }\n",
              "    60% {\n",
              "      border-color: transparent;\n",
              "      border-right-color: var(--fill-color);\n",
              "    }\n",
              "    80% {\n",
              "      border-color: transparent;\n",
              "      border-right-color: var(--fill-color);\n",
              "      border-bottom-color: var(--fill-color);\n",
              "    }\n",
              "    90% {\n",
              "      border-color: transparent;\n",
              "      border-bottom-color: var(--fill-color);\n",
              "    }\n",
              "  }\n",
              "</style>\n",
              "\n",
              "  <script>\n",
              "    async function quickchart(key) {\n",
              "      const quickchartButtonEl =\n",
              "        document.querySelector('#' + key + ' button');\n",
              "      quickchartButtonEl.disabled = true;  // To prevent multiple clicks.\n",
              "      quickchartButtonEl.classList.add('colab-df-spinner');\n",
              "      try {\n",
              "        const charts = await google.colab.kernel.invokeFunction(\n",
              "            'suggestCharts', [key], {});\n",
              "      } catch (error) {\n",
              "        console.error('Error during call to suggestCharts:', error);\n",
              "      }\n",
              "      quickchartButtonEl.classList.remove('colab-df-spinner');\n",
              "      quickchartButtonEl.classList.add('colab-df-quickchart-complete');\n",
              "    }\n",
              "    (() => {\n",
              "      let quickchartButtonEl =\n",
              "        document.querySelector('#df-a485764c-dd55-48c0-8021-872064cb0f1a button');\n",
              "      quickchartButtonEl.style.display =\n",
              "        google.colab.kernel.accessAllowed ? 'block' : 'none';\n",
              "    })();\n",
              "  </script>\n",
              "</div>\n",
              "    </div>\n",
              "  </div>\n"
            ]
          },
          "metadata": {},
          "execution_count": 5
        }
      ],
      "source": [
        "liar"
      ]
    },
    {
      "cell_type": "code",
      "execution_count": 6,
      "metadata": {
        "colab": {
          "base_uri": "https://localhost:8080/",
          "height": 423
        },
        "id": "MabQ-LkILilA",
        "outputId": "0a437ad5-398b-46b8-e819-ac56ffd158d4"
      },
      "outputs": [
        {
          "output_type": "execute_result",
          "data": {
            "text/plain": [
              "                                                    text  label\n",
              "0            National Federation of Independent Business      1\n",
              "1                            comments in Fayetteville NC      1\n",
              "2      Romney makes pitch, hoping to close deal : Ele...      1\n",
              "3      Democratic Leaders Say House Democrats Are Uni...      1\n",
              "4        Budget of the United States Government, FY 2008      1\n",
              "...                                                  ...    ...\n",
              "23191  2017 Hollywood Film Awards: The Complete List ...      1\n",
              "23192  Jada Pinkett Smith explains why son Jaden move...      1\n",
              "23193  Tinsley Mortimer Reacts to Luann de Lesseps' R...      1\n",
              "23194  Prince Harry Carries on Princess Diana’s Legac...      1\n",
              "23195  Kylie Jenner is actually terrified of butterflies      1\n",
              "\n",
              "[23196 rows x 2 columns]"
            ],
            "text/html": [
              "\n",
              "  <div id=\"df-3e62cca4-b0cc-4e60-818a-495a9827a82a\" class=\"colab-df-container\">\n",
              "    <div>\n",
              "<style scoped>\n",
              "    .dataframe tbody tr th:only-of-type {\n",
              "        vertical-align: middle;\n",
              "    }\n",
              "\n",
              "    .dataframe tbody tr th {\n",
              "        vertical-align: top;\n",
              "    }\n",
              "\n",
              "    .dataframe thead th {\n",
              "        text-align: right;\n",
              "    }\n",
              "</style>\n",
              "<table border=\"1\" class=\"dataframe\">\n",
              "  <thead>\n",
              "    <tr style=\"text-align: right;\">\n",
              "      <th></th>\n",
              "      <th>text</th>\n",
              "      <th>label</th>\n",
              "    </tr>\n",
              "  </thead>\n",
              "  <tbody>\n",
              "    <tr>\n",
              "      <th>0</th>\n",
              "      <td>National Federation of Independent Business</td>\n",
              "      <td>1</td>\n",
              "    </tr>\n",
              "    <tr>\n",
              "      <th>1</th>\n",
              "      <td>comments in Fayetteville NC</td>\n",
              "      <td>1</td>\n",
              "    </tr>\n",
              "    <tr>\n",
              "      <th>2</th>\n",
              "      <td>Romney makes pitch, hoping to close deal : Ele...</td>\n",
              "      <td>1</td>\n",
              "    </tr>\n",
              "    <tr>\n",
              "      <th>3</th>\n",
              "      <td>Democratic Leaders Say House Democrats Are Uni...</td>\n",
              "      <td>1</td>\n",
              "    </tr>\n",
              "    <tr>\n",
              "      <th>4</th>\n",
              "      <td>Budget of the United States Government, FY 2008</td>\n",
              "      <td>1</td>\n",
              "    </tr>\n",
              "    <tr>\n",
              "      <th>...</th>\n",
              "      <td>...</td>\n",
              "      <td>...</td>\n",
              "    </tr>\n",
              "    <tr>\n",
              "      <th>23191</th>\n",
              "      <td>2017 Hollywood Film Awards: The Complete List ...</td>\n",
              "      <td>1</td>\n",
              "    </tr>\n",
              "    <tr>\n",
              "      <th>23192</th>\n",
              "      <td>Jada Pinkett Smith explains why son Jaden move...</td>\n",
              "      <td>1</td>\n",
              "    </tr>\n",
              "    <tr>\n",
              "      <th>23193</th>\n",
              "      <td>Tinsley Mortimer Reacts to Luann de Lesseps' R...</td>\n",
              "      <td>1</td>\n",
              "    </tr>\n",
              "    <tr>\n",
              "      <th>23194</th>\n",
              "      <td>Prince Harry Carries on Princess Diana’s Legac...</td>\n",
              "      <td>1</td>\n",
              "    </tr>\n",
              "    <tr>\n",
              "      <th>23195</th>\n",
              "      <td>Kylie Jenner is actually terrified of butterflies</td>\n",
              "      <td>1</td>\n",
              "    </tr>\n",
              "  </tbody>\n",
              "</table>\n",
              "<p>23196 rows × 2 columns</p>\n",
              "</div>\n",
              "    <div class=\"colab-df-buttons\">\n",
              "\n",
              "  <div class=\"colab-df-container\">\n",
              "    <button class=\"colab-df-convert\" onclick=\"convertToInteractive('df-3e62cca4-b0cc-4e60-818a-495a9827a82a')\"\n",
              "            title=\"Convert this dataframe to an interactive table.\"\n",
              "            style=\"display:none;\">\n",
              "\n",
              "  <svg xmlns=\"http://www.w3.org/2000/svg\" height=\"24px\" viewBox=\"0 -960 960 960\">\n",
              "    <path d=\"M120-120v-720h720v720H120Zm60-500h600v-160H180v160Zm220 220h160v-160H400v160Zm0 220h160v-160H400v160ZM180-400h160v-160H180v160Zm440 0h160v-160H620v160ZM180-180h160v-160H180v160Zm440 0h160v-160H620v160Z\"/>\n",
              "  </svg>\n",
              "    </button>\n",
              "\n",
              "  <style>\n",
              "    .colab-df-container {\n",
              "      display:flex;\n",
              "      gap: 12px;\n",
              "    }\n",
              "\n",
              "    .colab-df-convert {\n",
              "      background-color: #E8F0FE;\n",
              "      border: none;\n",
              "      border-radius: 50%;\n",
              "      cursor: pointer;\n",
              "      display: none;\n",
              "      fill: #1967D2;\n",
              "      height: 32px;\n",
              "      padding: 0 0 0 0;\n",
              "      width: 32px;\n",
              "    }\n",
              "\n",
              "    .colab-df-convert:hover {\n",
              "      background-color: #E2EBFA;\n",
              "      box-shadow: 0px 1px 2px rgba(60, 64, 67, 0.3), 0px 1px 3px 1px rgba(60, 64, 67, 0.15);\n",
              "      fill: #174EA6;\n",
              "    }\n",
              "\n",
              "    .colab-df-buttons div {\n",
              "      margin-bottom: 4px;\n",
              "    }\n",
              "\n",
              "    [theme=dark] .colab-df-convert {\n",
              "      background-color: #3B4455;\n",
              "      fill: #D2E3FC;\n",
              "    }\n",
              "\n",
              "    [theme=dark] .colab-df-convert:hover {\n",
              "      background-color: #434B5C;\n",
              "      box-shadow: 0px 1px 3px 1px rgba(0, 0, 0, 0.15);\n",
              "      filter: drop-shadow(0px 1px 2px rgba(0, 0, 0, 0.3));\n",
              "      fill: #FFFFFF;\n",
              "    }\n",
              "  </style>\n",
              "\n",
              "    <script>\n",
              "      const buttonEl =\n",
              "        document.querySelector('#df-3e62cca4-b0cc-4e60-818a-495a9827a82a button.colab-df-convert');\n",
              "      buttonEl.style.display =\n",
              "        google.colab.kernel.accessAllowed ? 'block' : 'none';\n",
              "\n",
              "      async function convertToInteractive(key) {\n",
              "        const element = document.querySelector('#df-3e62cca4-b0cc-4e60-818a-495a9827a82a');\n",
              "        const dataTable =\n",
              "          await google.colab.kernel.invokeFunction('convertToInteractive',\n",
              "                                                    [key], {});\n",
              "        if (!dataTable) return;\n",
              "\n",
              "        const docLinkHtml = 'Like what you see? Visit the ' +\n",
              "          '<a target=\"_blank\" href=https://colab.research.google.com/notebooks/data_table.ipynb>data table notebook</a>'\n",
              "          + ' to learn more about interactive tables.';\n",
              "        element.innerHTML = '';\n",
              "        dataTable['output_type'] = 'display_data';\n",
              "        await google.colab.output.renderOutput(dataTable, element);\n",
              "        const docLink = document.createElement('div');\n",
              "        docLink.innerHTML = docLinkHtml;\n",
              "        element.appendChild(docLink);\n",
              "      }\n",
              "    </script>\n",
              "  </div>\n",
              "\n",
              "\n",
              "<div id=\"df-66252465-7c54-4326-9c1f-29ed7cc998ed\">\n",
              "  <button class=\"colab-df-quickchart\" onclick=\"quickchart('df-66252465-7c54-4326-9c1f-29ed7cc998ed')\"\n",
              "            title=\"Suggest charts\"\n",
              "            style=\"display:none;\">\n",
              "\n",
              "<svg xmlns=\"http://www.w3.org/2000/svg\" height=\"24px\"viewBox=\"0 0 24 24\"\n",
              "     width=\"24px\">\n",
              "    <g>\n",
              "        <path d=\"M19 3H5c-1.1 0-2 .9-2 2v14c0 1.1.9 2 2 2h14c1.1 0 2-.9 2-2V5c0-1.1-.9-2-2-2zM9 17H7v-7h2v7zm4 0h-2V7h2v10zm4 0h-2v-4h2v4z\"/>\n",
              "    </g>\n",
              "</svg>\n",
              "  </button>\n",
              "\n",
              "<style>\n",
              "  .colab-df-quickchart {\n",
              "      --bg-color: #E8F0FE;\n",
              "      --fill-color: #1967D2;\n",
              "      --hover-bg-color: #E2EBFA;\n",
              "      --hover-fill-color: #174EA6;\n",
              "      --disabled-fill-color: #AAA;\n",
              "      --disabled-bg-color: #DDD;\n",
              "  }\n",
              "\n",
              "  [theme=dark] .colab-df-quickchart {\n",
              "      --bg-color: #3B4455;\n",
              "      --fill-color: #D2E3FC;\n",
              "      --hover-bg-color: #434B5C;\n",
              "      --hover-fill-color: #FFFFFF;\n",
              "      --disabled-bg-color: #3B4455;\n",
              "      --disabled-fill-color: #666;\n",
              "  }\n",
              "\n",
              "  .colab-df-quickchart {\n",
              "    background-color: var(--bg-color);\n",
              "    border: none;\n",
              "    border-radius: 50%;\n",
              "    cursor: pointer;\n",
              "    display: none;\n",
              "    fill: var(--fill-color);\n",
              "    height: 32px;\n",
              "    padding: 0;\n",
              "    width: 32px;\n",
              "  }\n",
              "\n",
              "  .colab-df-quickchart:hover {\n",
              "    background-color: var(--hover-bg-color);\n",
              "    box-shadow: 0 1px 2px rgba(60, 64, 67, 0.3), 0 1px 3px 1px rgba(60, 64, 67, 0.15);\n",
              "    fill: var(--button-hover-fill-color);\n",
              "  }\n",
              "\n",
              "  .colab-df-quickchart-complete:disabled,\n",
              "  .colab-df-quickchart-complete:disabled:hover {\n",
              "    background-color: var(--disabled-bg-color);\n",
              "    fill: var(--disabled-fill-color);\n",
              "    box-shadow: none;\n",
              "  }\n",
              "\n",
              "  .colab-df-spinner {\n",
              "    border: 2px solid var(--fill-color);\n",
              "    border-color: transparent;\n",
              "    border-bottom-color: var(--fill-color);\n",
              "    animation:\n",
              "      spin 1s steps(1) infinite;\n",
              "  }\n",
              "\n",
              "  @keyframes spin {\n",
              "    0% {\n",
              "      border-color: transparent;\n",
              "      border-bottom-color: var(--fill-color);\n",
              "      border-left-color: var(--fill-color);\n",
              "    }\n",
              "    20% {\n",
              "      border-color: transparent;\n",
              "      border-left-color: var(--fill-color);\n",
              "      border-top-color: var(--fill-color);\n",
              "    }\n",
              "    30% {\n",
              "      border-color: transparent;\n",
              "      border-left-color: var(--fill-color);\n",
              "      border-top-color: var(--fill-color);\n",
              "      border-right-color: var(--fill-color);\n",
              "    }\n",
              "    40% {\n",
              "      border-color: transparent;\n",
              "      border-right-color: var(--fill-color);\n",
              "      border-top-color: var(--fill-color);\n",
              "    }\n",
              "    60% {\n",
              "      border-color: transparent;\n",
              "      border-right-color: var(--fill-color);\n",
              "    }\n",
              "    80% {\n",
              "      border-color: transparent;\n",
              "      border-right-color: var(--fill-color);\n",
              "      border-bottom-color: var(--fill-color);\n",
              "    }\n",
              "    90% {\n",
              "      border-color: transparent;\n",
              "      border-bottom-color: var(--fill-color);\n",
              "    }\n",
              "  }\n",
              "</style>\n",
              "\n",
              "  <script>\n",
              "    async function quickchart(key) {\n",
              "      const quickchartButtonEl =\n",
              "        document.querySelector('#' + key + ' button');\n",
              "      quickchartButtonEl.disabled = true;  // To prevent multiple clicks.\n",
              "      quickchartButtonEl.classList.add('colab-df-spinner');\n",
              "      try {\n",
              "        const charts = await google.colab.kernel.invokeFunction(\n",
              "            'suggestCharts', [key], {});\n",
              "      } catch (error) {\n",
              "        console.error('Error during call to suggestCharts:', error);\n",
              "      }\n",
              "      quickchartButtonEl.classList.remove('colab-df-spinner');\n",
              "      quickchartButtonEl.classList.add('colab-df-quickchart-complete');\n",
              "    }\n",
              "    (() => {\n",
              "      let quickchartButtonEl =\n",
              "        document.querySelector('#df-66252465-7c54-4326-9c1f-29ed7cc998ed button');\n",
              "      quickchartButtonEl.style.display =\n",
              "        google.colab.kernel.accessAllowed ? 'block' : 'none';\n",
              "    })();\n",
              "  </script>\n",
              "</div>\n",
              "    </div>\n",
              "  </div>\n"
            ]
          },
          "metadata": {},
          "execution_count": 6
        }
      ],
      "source": [
        "fkn"
      ]
    },
    {
      "cell_type": "code",
      "execution_count": 7,
      "metadata": {
        "colab": {
          "base_uri": "https://localhost:8080/",
          "height": 423
        },
        "id": "3w7YRZyAG5U1",
        "outputId": "7e4cb4b1-6a32-45b2-fced-cc6766de46e6"
      },
      "outputs": [
        {
          "output_type": "execute_result",
          "data": {
            "text/plain": [
              "                                                    text label\n",
              "0      We have less Americans working now than in the...     1\n",
              "1      Says Having organizations parading as being so...     0\n",
              "2         Says nearly half of Oregons children are poor.     1\n",
              "3      On attacks by Republicans that various program...     1\n",
              "4      Says when armed civilians stop mass shootings ...     0\n",
              "...                                                  ...   ...\n",
              "34935  2017 Hollywood Film Awards: The Complete List ...     1\n",
              "34936  Jada Pinkett Smith explains why son Jaden move...     1\n",
              "34937  Tinsley Mortimer Reacts to Luann de Lesseps' R...     1\n",
              "34938  Prince Harry Carries on Princess Diana’s Legac...     1\n",
              "34939  Kylie Jenner is actually terrified of butterflies     1\n",
              "\n",
              "[34940 rows x 2 columns]"
            ],
            "text/html": [
              "\n",
              "  <div id=\"df-aa02352a-925b-47d9-b2ea-ffd41cf66a4b\" class=\"colab-df-container\">\n",
              "    <div>\n",
              "<style scoped>\n",
              "    .dataframe tbody tr th:only-of-type {\n",
              "        vertical-align: middle;\n",
              "    }\n",
              "\n",
              "    .dataframe tbody tr th {\n",
              "        vertical-align: top;\n",
              "    }\n",
              "\n",
              "    .dataframe thead th {\n",
              "        text-align: right;\n",
              "    }\n",
              "</style>\n",
              "<table border=\"1\" class=\"dataframe\">\n",
              "  <thead>\n",
              "    <tr style=\"text-align: right;\">\n",
              "      <th></th>\n",
              "      <th>text</th>\n",
              "      <th>label</th>\n",
              "    </tr>\n",
              "  </thead>\n",
              "  <tbody>\n",
              "    <tr>\n",
              "      <th>0</th>\n",
              "      <td>We have less Americans working now than in the...</td>\n",
              "      <td>1</td>\n",
              "    </tr>\n",
              "    <tr>\n",
              "      <th>1</th>\n",
              "      <td>Says Having organizations parading as being so...</td>\n",
              "      <td>0</td>\n",
              "    </tr>\n",
              "    <tr>\n",
              "      <th>2</th>\n",
              "      <td>Says nearly half of Oregons children are poor.</td>\n",
              "      <td>1</td>\n",
              "    </tr>\n",
              "    <tr>\n",
              "      <th>3</th>\n",
              "      <td>On attacks by Republicans that various program...</td>\n",
              "      <td>1</td>\n",
              "    </tr>\n",
              "    <tr>\n",
              "      <th>4</th>\n",
              "      <td>Says when armed civilians stop mass shootings ...</td>\n",
              "      <td>0</td>\n",
              "    </tr>\n",
              "    <tr>\n",
              "      <th>...</th>\n",
              "      <td>...</td>\n",
              "      <td>...</td>\n",
              "    </tr>\n",
              "    <tr>\n",
              "      <th>34935</th>\n",
              "      <td>2017 Hollywood Film Awards: The Complete List ...</td>\n",
              "      <td>1</td>\n",
              "    </tr>\n",
              "    <tr>\n",
              "      <th>34936</th>\n",
              "      <td>Jada Pinkett Smith explains why son Jaden move...</td>\n",
              "      <td>1</td>\n",
              "    </tr>\n",
              "    <tr>\n",
              "      <th>34937</th>\n",
              "      <td>Tinsley Mortimer Reacts to Luann de Lesseps' R...</td>\n",
              "      <td>1</td>\n",
              "    </tr>\n",
              "    <tr>\n",
              "      <th>34938</th>\n",
              "      <td>Prince Harry Carries on Princess Diana’s Legac...</td>\n",
              "      <td>1</td>\n",
              "    </tr>\n",
              "    <tr>\n",
              "      <th>34939</th>\n",
              "      <td>Kylie Jenner is actually terrified of butterflies</td>\n",
              "      <td>1</td>\n",
              "    </tr>\n",
              "  </tbody>\n",
              "</table>\n",
              "<p>34940 rows × 2 columns</p>\n",
              "</div>\n",
              "    <div class=\"colab-df-buttons\">\n",
              "\n",
              "  <div class=\"colab-df-container\">\n",
              "    <button class=\"colab-df-convert\" onclick=\"convertToInteractive('df-aa02352a-925b-47d9-b2ea-ffd41cf66a4b')\"\n",
              "            title=\"Convert this dataframe to an interactive table.\"\n",
              "            style=\"display:none;\">\n",
              "\n",
              "  <svg xmlns=\"http://www.w3.org/2000/svg\" height=\"24px\" viewBox=\"0 -960 960 960\">\n",
              "    <path d=\"M120-120v-720h720v720H120Zm60-500h600v-160H180v160Zm220 220h160v-160H400v160Zm0 220h160v-160H400v160ZM180-400h160v-160H180v160Zm440 0h160v-160H620v160ZM180-180h160v-160H180v160Zm440 0h160v-160H620v160Z\"/>\n",
              "  </svg>\n",
              "    </button>\n",
              "\n",
              "  <style>\n",
              "    .colab-df-container {\n",
              "      display:flex;\n",
              "      gap: 12px;\n",
              "    }\n",
              "\n",
              "    .colab-df-convert {\n",
              "      background-color: #E8F0FE;\n",
              "      border: none;\n",
              "      border-radius: 50%;\n",
              "      cursor: pointer;\n",
              "      display: none;\n",
              "      fill: #1967D2;\n",
              "      height: 32px;\n",
              "      padding: 0 0 0 0;\n",
              "      width: 32px;\n",
              "    }\n",
              "\n",
              "    .colab-df-convert:hover {\n",
              "      background-color: #E2EBFA;\n",
              "      box-shadow: 0px 1px 2px rgba(60, 64, 67, 0.3), 0px 1px 3px 1px rgba(60, 64, 67, 0.15);\n",
              "      fill: #174EA6;\n",
              "    }\n",
              "\n",
              "    .colab-df-buttons div {\n",
              "      margin-bottom: 4px;\n",
              "    }\n",
              "\n",
              "    [theme=dark] .colab-df-convert {\n",
              "      background-color: #3B4455;\n",
              "      fill: #D2E3FC;\n",
              "    }\n",
              "\n",
              "    [theme=dark] .colab-df-convert:hover {\n",
              "      background-color: #434B5C;\n",
              "      box-shadow: 0px 1px 3px 1px rgba(0, 0, 0, 0.15);\n",
              "      filter: drop-shadow(0px 1px 2px rgba(0, 0, 0, 0.3));\n",
              "      fill: #FFFFFF;\n",
              "    }\n",
              "  </style>\n",
              "\n",
              "    <script>\n",
              "      const buttonEl =\n",
              "        document.querySelector('#df-aa02352a-925b-47d9-b2ea-ffd41cf66a4b button.colab-df-convert');\n",
              "      buttonEl.style.display =\n",
              "        google.colab.kernel.accessAllowed ? 'block' : 'none';\n",
              "\n",
              "      async function convertToInteractive(key) {\n",
              "        const element = document.querySelector('#df-aa02352a-925b-47d9-b2ea-ffd41cf66a4b');\n",
              "        const dataTable =\n",
              "          await google.colab.kernel.invokeFunction('convertToInteractive',\n",
              "                                                    [key], {});\n",
              "        if (!dataTable) return;\n",
              "\n",
              "        const docLinkHtml = 'Like what you see? Visit the ' +\n",
              "          '<a target=\"_blank\" href=https://colab.research.google.com/notebooks/data_table.ipynb>data table notebook</a>'\n",
              "          + ' to learn more about interactive tables.';\n",
              "        element.innerHTML = '';\n",
              "        dataTable['output_type'] = 'display_data';\n",
              "        await google.colab.output.renderOutput(dataTable, element);\n",
              "        const docLink = document.createElement('div');\n",
              "        docLink.innerHTML = docLinkHtml;\n",
              "        element.appendChild(docLink);\n",
              "      }\n",
              "    </script>\n",
              "  </div>\n",
              "\n",
              "\n",
              "<div id=\"df-be9efcaf-1922-4aee-880e-7b4d57ded632\">\n",
              "  <button class=\"colab-df-quickchart\" onclick=\"quickchart('df-be9efcaf-1922-4aee-880e-7b4d57ded632')\"\n",
              "            title=\"Suggest charts\"\n",
              "            style=\"display:none;\">\n",
              "\n",
              "<svg xmlns=\"http://www.w3.org/2000/svg\" height=\"24px\"viewBox=\"0 0 24 24\"\n",
              "     width=\"24px\">\n",
              "    <g>\n",
              "        <path d=\"M19 3H5c-1.1 0-2 .9-2 2v14c0 1.1.9 2 2 2h14c1.1 0 2-.9 2-2V5c0-1.1-.9-2-2-2zM9 17H7v-7h2v7zm4 0h-2V7h2v10zm4 0h-2v-4h2v4z\"/>\n",
              "    </g>\n",
              "</svg>\n",
              "  </button>\n",
              "\n",
              "<style>\n",
              "  .colab-df-quickchart {\n",
              "      --bg-color: #E8F0FE;\n",
              "      --fill-color: #1967D2;\n",
              "      --hover-bg-color: #E2EBFA;\n",
              "      --hover-fill-color: #174EA6;\n",
              "      --disabled-fill-color: #AAA;\n",
              "      --disabled-bg-color: #DDD;\n",
              "  }\n",
              "\n",
              "  [theme=dark] .colab-df-quickchart {\n",
              "      --bg-color: #3B4455;\n",
              "      --fill-color: #D2E3FC;\n",
              "      --hover-bg-color: #434B5C;\n",
              "      --hover-fill-color: #FFFFFF;\n",
              "      --disabled-bg-color: #3B4455;\n",
              "      --disabled-fill-color: #666;\n",
              "  }\n",
              "\n",
              "  .colab-df-quickchart {\n",
              "    background-color: var(--bg-color);\n",
              "    border: none;\n",
              "    border-radius: 50%;\n",
              "    cursor: pointer;\n",
              "    display: none;\n",
              "    fill: var(--fill-color);\n",
              "    height: 32px;\n",
              "    padding: 0;\n",
              "    width: 32px;\n",
              "  }\n",
              "\n",
              "  .colab-df-quickchart:hover {\n",
              "    background-color: var(--hover-bg-color);\n",
              "    box-shadow: 0 1px 2px rgba(60, 64, 67, 0.3), 0 1px 3px 1px rgba(60, 64, 67, 0.15);\n",
              "    fill: var(--button-hover-fill-color);\n",
              "  }\n",
              "\n",
              "  .colab-df-quickchart-complete:disabled,\n",
              "  .colab-df-quickchart-complete:disabled:hover {\n",
              "    background-color: var(--disabled-bg-color);\n",
              "    fill: var(--disabled-fill-color);\n",
              "    box-shadow: none;\n",
              "  }\n",
              "\n",
              "  .colab-df-spinner {\n",
              "    border: 2px solid var(--fill-color);\n",
              "    border-color: transparent;\n",
              "    border-bottom-color: var(--fill-color);\n",
              "    animation:\n",
              "      spin 1s steps(1) infinite;\n",
              "  }\n",
              "\n",
              "  @keyframes spin {\n",
              "    0% {\n",
              "      border-color: transparent;\n",
              "      border-bottom-color: var(--fill-color);\n",
              "      border-left-color: var(--fill-color);\n",
              "    }\n",
              "    20% {\n",
              "      border-color: transparent;\n",
              "      border-left-color: var(--fill-color);\n",
              "      border-top-color: var(--fill-color);\n",
              "    }\n",
              "    30% {\n",
              "      border-color: transparent;\n",
              "      border-left-color: var(--fill-color);\n",
              "      border-top-color: var(--fill-color);\n",
              "      border-right-color: var(--fill-color);\n",
              "    }\n",
              "    40% {\n",
              "      border-color: transparent;\n",
              "      border-right-color: var(--fill-color);\n",
              "      border-top-color: var(--fill-color);\n",
              "    }\n",
              "    60% {\n",
              "      border-color: transparent;\n",
              "      border-right-color: var(--fill-color);\n",
              "    }\n",
              "    80% {\n",
              "      border-color: transparent;\n",
              "      border-right-color: var(--fill-color);\n",
              "      border-bottom-color: var(--fill-color);\n",
              "    }\n",
              "    90% {\n",
              "      border-color: transparent;\n",
              "      border-bottom-color: var(--fill-color);\n",
              "    }\n",
              "  }\n",
              "</style>\n",
              "\n",
              "  <script>\n",
              "    async function quickchart(key) {\n",
              "      const quickchartButtonEl =\n",
              "        document.querySelector('#' + key + ' button');\n",
              "      quickchartButtonEl.disabled = true;  // To prevent multiple clicks.\n",
              "      quickchartButtonEl.classList.add('colab-df-spinner');\n",
              "      try {\n",
              "        const charts = await google.colab.kernel.invokeFunction(\n",
              "            'suggestCharts', [key], {});\n",
              "      } catch (error) {\n",
              "        console.error('Error during call to suggestCharts:', error);\n",
              "      }\n",
              "      quickchartButtonEl.classList.remove('colab-df-spinner');\n",
              "      quickchartButtonEl.classList.add('colab-df-quickchart-complete');\n",
              "    }\n",
              "    (() => {\n",
              "      let quickchartButtonEl =\n",
              "        document.querySelector('#df-be9efcaf-1922-4aee-880e-7b4d57ded632 button');\n",
              "      quickchartButtonEl.style.display =\n",
              "        google.colab.kernel.accessAllowed ? 'block' : 'none';\n",
              "    })();\n",
              "  </script>\n",
              "</div>\n",
              "    </div>\n",
              "  </div>\n"
            ]
          },
          "metadata": {},
          "execution_count": 7
        }
      ],
      "source": [
        "lstm_df"
      ]
    },
    {
      "cell_type": "code",
      "execution_count": 8,
      "metadata": {
        "colab": {
          "base_uri": "https://localhost:8080/",
          "height": 423
        },
        "id": "ihch2SPVGwsn",
        "outputId": "2b908c29-f54f-4a9a-c2c9-82e2c6dfb4a1"
      },
      "outputs": [
        {
          "output_type": "execute_result",
          "data": {
            "text/plain": [
              "                                                    text label\n",
              "0                                    le american working     1\n",
              "1      say organization parading social welfare organ...     0\n",
              "2                      say nearly half oregon child poor     1\n",
              "3      attack republican various program economic sti...     1\n",
              "4      say armed civilian stop mass shooting gun aver...     0\n",
              "...                                                  ...   ...\n",
              "34935          hollywood film award complete list winner     1\n",
              "34936        jada pinkett smith explains son jaden moved     1\n",
              "34937   tinsley mortimer reacts luann de lesseps relapse     1\n",
              "34938  prince harry carry princess diana legacy annou...     1\n",
              "34939          kylie jenner actually terrified butterfly     1\n",
              "\n",
              "[34940 rows x 2 columns]"
            ],
            "text/html": [
              "\n",
              "  <div id=\"df-01493d78-c707-45ec-8e2f-5f41eb80ded0\" class=\"colab-df-container\">\n",
              "    <div>\n",
              "<style scoped>\n",
              "    .dataframe tbody tr th:only-of-type {\n",
              "        vertical-align: middle;\n",
              "    }\n",
              "\n",
              "    .dataframe tbody tr th {\n",
              "        vertical-align: top;\n",
              "    }\n",
              "\n",
              "    .dataframe thead th {\n",
              "        text-align: right;\n",
              "    }\n",
              "</style>\n",
              "<table border=\"1\" class=\"dataframe\">\n",
              "  <thead>\n",
              "    <tr style=\"text-align: right;\">\n",
              "      <th></th>\n",
              "      <th>text</th>\n",
              "      <th>label</th>\n",
              "    </tr>\n",
              "  </thead>\n",
              "  <tbody>\n",
              "    <tr>\n",
              "      <th>0</th>\n",
              "      <td>le american working</td>\n",
              "      <td>1</td>\n",
              "    </tr>\n",
              "    <tr>\n",
              "      <th>1</th>\n",
              "      <td>say organization parading social welfare organ...</td>\n",
              "      <td>0</td>\n",
              "    </tr>\n",
              "    <tr>\n",
              "      <th>2</th>\n",
              "      <td>say nearly half oregon child poor</td>\n",
              "      <td>1</td>\n",
              "    </tr>\n",
              "    <tr>\n",
              "      <th>3</th>\n",
              "      <td>attack republican various program economic sti...</td>\n",
              "      <td>1</td>\n",
              "    </tr>\n",
              "    <tr>\n",
              "      <th>4</th>\n",
              "      <td>say armed civilian stop mass shooting gun aver...</td>\n",
              "      <td>0</td>\n",
              "    </tr>\n",
              "    <tr>\n",
              "      <th>...</th>\n",
              "      <td>...</td>\n",
              "      <td>...</td>\n",
              "    </tr>\n",
              "    <tr>\n",
              "      <th>34935</th>\n",
              "      <td>hollywood film award complete list winner</td>\n",
              "      <td>1</td>\n",
              "    </tr>\n",
              "    <tr>\n",
              "      <th>34936</th>\n",
              "      <td>jada pinkett smith explains son jaden moved</td>\n",
              "      <td>1</td>\n",
              "    </tr>\n",
              "    <tr>\n",
              "      <th>34937</th>\n",
              "      <td>tinsley mortimer reacts luann de lesseps relapse</td>\n",
              "      <td>1</td>\n",
              "    </tr>\n",
              "    <tr>\n",
              "      <th>34938</th>\n",
              "      <td>prince harry carry princess diana legacy annou...</td>\n",
              "      <td>1</td>\n",
              "    </tr>\n",
              "    <tr>\n",
              "      <th>34939</th>\n",
              "      <td>kylie jenner actually terrified butterfly</td>\n",
              "      <td>1</td>\n",
              "    </tr>\n",
              "  </tbody>\n",
              "</table>\n",
              "<p>34940 rows × 2 columns</p>\n",
              "</div>\n",
              "    <div class=\"colab-df-buttons\">\n",
              "\n",
              "  <div class=\"colab-df-container\">\n",
              "    <button class=\"colab-df-convert\" onclick=\"convertToInteractive('df-01493d78-c707-45ec-8e2f-5f41eb80ded0')\"\n",
              "            title=\"Convert this dataframe to an interactive table.\"\n",
              "            style=\"display:none;\">\n",
              "\n",
              "  <svg xmlns=\"http://www.w3.org/2000/svg\" height=\"24px\" viewBox=\"0 -960 960 960\">\n",
              "    <path d=\"M120-120v-720h720v720H120Zm60-500h600v-160H180v160Zm220 220h160v-160H400v160Zm0 220h160v-160H400v160ZM180-400h160v-160H180v160Zm440 0h160v-160H620v160ZM180-180h160v-160H180v160Zm440 0h160v-160H620v160Z\"/>\n",
              "  </svg>\n",
              "    </button>\n",
              "\n",
              "  <style>\n",
              "    .colab-df-container {\n",
              "      display:flex;\n",
              "      gap: 12px;\n",
              "    }\n",
              "\n",
              "    .colab-df-convert {\n",
              "      background-color: #E8F0FE;\n",
              "      border: none;\n",
              "      border-radius: 50%;\n",
              "      cursor: pointer;\n",
              "      display: none;\n",
              "      fill: #1967D2;\n",
              "      height: 32px;\n",
              "      padding: 0 0 0 0;\n",
              "      width: 32px;\n",
              "    }\n",
              "\n",
              "    .colab-df-convert:hover {\n",
              "      background-color: #E2EBFA;\n",
              "      box-shadow: 0px 1px 2px rgba(60, 64, 67, 0.3), 0px 1px 3px 1px rgba(60, 64, 67, 0.15);\n",
              "      fill: #174EA6;\n",
              "    }\n",
              "\n",
              "    .colab-df-buttons div {\n",
              "      margin-bottom: 4px;\n",
              "    }\n",
              "\n",
              "    [theme=dark] .colab-df-convert {\n",
              "      background-color: #3B4455;\n",
              "      fill: #D2E3FC;\n",
              "    }\n",
              "\n",
              "    [theme=dark] .colab-df-convert:hover {\n",
              "      background-color: #434B5C;\n",
              "      box-shadow: 0px 1px 3px 1px rgba(0, 0, 0, 0.15);\n",
              "      filter: drop-shadow(0px 1px 2px rgba(0, 0, 0, 0.3));\n",
              "      fill: #FFFFFF;\n",
              "    }\n",
              "  </style>\n",
              "\n",
              "    <script>\n",
              "      const buttonEl =\n",
              "        document.querySelector('#df-01493d78-c707-45ec-8e2f-5f41eb80ded0 button.colab-df-convert');\n",
              "      buttonEl.style.display =\n",
              "        google.colab.kernel.accessAllowed ? 'block' : 'none';\n",
              "\n",
              "      async function convertToInteractive(key) {\n",
              "        const element = document.querySelector('#df-01493d78-c707-45ec-8e2f-5f41eb80ded0');\n",
              "        const dataTable =\n",
              "          await google.colab.kernel.invokeFunction('convertToInteractive',\n",
              "                                                    [key], {});\n",
              "        if (!dataTable) return;\n",
              "\n",
              "        const docLinkHtml = 'Like what you see? Visit the ' +\n",
              "          '<a target=\"_blank\" href=https://colab.research.google.com/notebooks/data_table.ipynb>data table notebook</a>'\n",
              "          + ' to learn more about interactive tables.';\n",
              "        element.innerHTML = '';\n",
              "        dataTable['output_type'] = 'display_data';\n",
              "        await google.colab.output.renderOutput(dataTable, element);\n",
              "        const docLink = document.createElement('div');\n",
              "        docLink.innerHTML = docLinkHtml;\n",
              "        element.appendChild(docLink);\n",
              "      }\n",
              "    </script>\n",
              "  </div>\n",
              "\n",
              "\n",
              "<div id=\"df-af9ad70c-b1ad-416e-822a-b0178407e627\">\n",
              "  <button class=\"colab-df-quickchart\" onclick=\"quickchart('df-af9ad70c-b1ad-416e-822a-b0178407e627')\"\n",
              "            title=\"Suggest charts\"\n",
              "            style=\"display:none;\">\n",
              "\n",
              "<svg xmlns=\"http://www.w3.org/2000/svg\" height=\"24px\"viewBox=\"0 0 24 24\"\n",
              "     width=\"24px\">\n",
              "    <g>\n",
              "        <path d=\"M19 3H5c-1.1 0-2 .9-2 2v14c0 1.1.9 2 2 2h14c1.1 0 2-.9 2-2V5c0-1.1-.9-2-2-2zM9 17H7v-7h2v7zm4 0h-2V7h2v10zm4 0h-2v-4h2v4z\"/>\n",
              "    </g>\n",
              "</svg>\n",
              "  </button>\n",
              "\n",
              "<style>\n",
              "  .colab-df-quickchart {\n",
              "      --bg-color: #E8F0FE;\n",
              "      --fill-color: #1967D2;\n",
              "      --hover-bg-color: #E2EBFA;\n",
              "      --hover-fill-color: #174EA6;\n",
              "      --disabled-fill-color: #AAA;\n",
              "      --disabled-bg-color: #DDD;\n",
              "  }\n",
              "\n",
              "  [theme=dark] .colab-df-quickchart {\n",
              "      --bg-color: #3B4455;\n",
              "      --fill-color: #D2E3FC;\n",
              "      --hover-bg-color: #434B5C;\n",
              "      --hover-fill-color: #FFFFFF;\n",
              "      --disabled-bg-color: #3B4455;\n",
              "      --disabled-fill-color: #666;\n",
              "  }\n",
              "\n",
              "  .colab-df-quickchart {\n",
              "    background-color: var(--bg-color);\n",
              "    border: none;\n",
              "    border-radius: 50%;\n",
              "    cursor: pointer;\n",
              "    display: none;\n",
              "    fill: var(--fill-color);\n",
              "    height: 32px;\n",
              "    padding: 0;\n",
              "    width: 32px;\n",
              "  }\n",
              "\n",
              "  .colab-df-quickchart:hover {\n",
              "    background-color: var(--hover-bg-color);\n",
              "    box-shadow: 0 1px 2px rgba(60, 64, 67, 0.3), 0 1px 3px 1px rgba(60, 64, 67, 0.15);\n",
              "    fill: var(--button-hover-fill-color);\n",
              "  }\n",
              "\n",
              "  .colab-df-quickchart-complete:disabled,\n",
              "  .colab-df-quickchart-complete:disabled:hover {\n",
              "    background-color: var(--disabled-bg-color);\n",
              "    fill: var(--disabled-fill-color);\n",
              "    box-shadow: none;\n",
              "  }\n",
              "\n",
              "  .colab-df-spinner {\n",
              "    border: 2px solid var(--fill-color);\n",
              "    border-color: transparent;\n",
              "    border-bottom-color: var(--fill-color);\n",
              "    animation:\n",
              "      spin 1s steps(1) infinite;\n",
              "  }\n",
              "\n",
              "  @keyframes spin {\n",
              "    0% {\n",
              "      border-color: transparent;\n",
              "      border-bottom-color: var(--fill-color);\n",
              "      border-left-color: var(--fill-color);\n",
              "    }\n",
              "    20% {\n",
              "      border-color: transparent;\n",
              "      border-left-color: var(--fill-color);\n",
              "      border-top-color: var(--fill-color);\n",
              "    }\n",
              "    30% {\n",
              "      border-color: transparent;\n",
              "      border-left-color: var(--fill-color);\n",
              "      border-top-color: var(--fill-color);\n",
              "      border-right-color: var(--fill-color);\n",
              "    }\n",
              "    40% {\n",
              "      border-color: transparent;\n",
              "      border-right-color: var(--fill-color);\n",
              "      border-top-color: var(--fill-color);\n",
              "    }\n",
              "    60% {\n",
              "      border-color: transparent;\n",
              "      border-right-color: var(--fill-color);\n",
              "    }\n",
              "    80% {\n",
              "      border-color: transparent;\n",
              "      border-right-color: var(--fill-color);\n",
              "      border-bottom-color: var(--fill-color);\n",
              "    }\n",
              "    90% {\n",
              "      border-color: transparent;\n",
              "      border-bottom-color: var(--fill-color);\n",
              "    }\n",
              "  }\n",
              "</style>\n",
              "\n",
              "  <script>\n",
              "    async function quickchart(key) {\n",
              "      const quickchartButtonEl =\n",
              "        document.querySelector('#' + key + ' button');\n",
              "      quickchartButtonEl.disabled = true;  // To prevent multiple clicks.\n",
              "      quickchartButtonEl.classList.add('colab-df-spinner');\n",
              "      try {\n",
              "        const charts = await google.colab.kernel.invokeFunction(\n",
              "            'suggestCharts', [key], {});\n",
              "      } catch (error) {\n",
              "        console.error('Error during call to suggestCharts:', error);\n",
              "      }\n",
              "      quickchartButtonEl.classList.remove('colab-df-spinner');\n",
              "      quickchartButtonEl.classList.add('colab-df-quickchart-complete');\n",
              "    }\n",
              "    (() => {\n",
              "      let quickchartButtonEl =\n",
              "        document.querySelector('#df-af9ad70c-b1ad-416e-822a-b0178407e627 button');\n",
              "      quickchartButtonEl.style.display =\n",
              "        google.colab.kernel.accessAllowed ? 'block' : 'none';\n",
              "    })();\n",
              "  </script>\n",
              "</div>\n",
              "    </div>\n",
              "  </div>\n"
            ]
          },
          "metadata": {},
          "execution_count": 8
        }
      ],
      "source": [
        "lstm_df['text'] = lstm_df['text'].map(lambda com : clean_text(com))\n",
        "lstm_df"
      ]
    },
    {
      "cell_type": "code",
      "execution_count": 9,
      "metadata": {
        "id": "xOQXRb2iHd_Y",
        "colab": {
          "base_uri": "https://localhost:8080/"
        },
        "outputId": "b284b174-a93f-404d-ceb4-2cd8aee44d5b"
      },
      "outputs": [
        {
          "output_type": "execute_result",
          "data": {
            "text/plain": [
              "text     0\n",
              "label    0\n",
              "dtype: int64"
            ]
          },
          "metadata": {},
          "execution_count": 9
        }
      ],
      "source": [
        "lstm_df.isnull().sum()"
      ]
    },
    {
      "cell_type": "markdown",
      "metadata": {
        "id": "S0Mftr_XHn9w"
      },
      "source": [
        "No null values in the data set"
      ]
    },
    {
      "cell_type": "code",
      "execution_count": 10,
      "metadata": {
        "colab": {
          "base_uri": "https://localhost:8080/"
        },
        "id": "Fw4-cAZlHjR1",
        "outputId": "0efc9e3a-02a5-459e-e028-8605cb2a41aa"
      },
      "outputs": [
        {
          "output_type": "execute_result",
          "data": {
            "text/plain": [
              "1    76.35\n",
              "0    23.65\n",
              "Name: label, dtype: float64"
            ]
          },
          "metadata": {},
          "execution_count": 10
        }
      ],
      "source": [
        "round(lstm_df['label'].value_counts(normalize=True) * 100, 2)"
      ]
    },
    {
      "cell_type": "markdown",
      "metadata": {
        "id": "jXRyI_v-HlI9"
      },
      "source": [
        "## Data Analysis"
      ]
    },
    {
      "cell_type": "code",
      "execution_count": 11,
      "metadata": {
        "id": "tQNPT7ahDbag"
      },
      "outputs": [],
      "source": [
        "text_real=lstm_df[lstm_df['label']==1]['text']\n",
        "text_fake=lstm_df[lstm_df['label']==0]['text']\n",
        "text_real = ' '.join([''.join(text) for text in text_real])\n",
        "text_fake = ' '.join([''.join(text) for text in text_fake])"
      ]
    },
    {
      "cell_type": "code",
      "execution_count": 12,
      "metadata": {
        "colab": {
          "base_uri": "https://localhost:8080/",
          "height": 298
        },
        "id": "8joskxioE6Vg",
        "outputId": "a4690481-c76e-4598-f12f-10600adc5fd2"
      },
      "outputs": [
        {
          "output_type": "display_data",
          "data": {
            "text/plain": [
              "<Figure size 1000x500 with 2 Axes>"
            ],
            "image/png": "[encoded data removed]"
          },
          "metadata": {}
        }
      ],
      "source": [
        "# Word cloud - toxic comments\n",
        "wordcloud_real = WordCloud(\n",
        "    collocation_threshold=2,\n",
        "    collocations=True,\n",
        "    background_color=\"white\",\n",
        "    colormap=\"afmhot\"\n",
        ").generate(text_real )\n",
        "\n",
        "# Word cloud - nontoxic comments\n",
        "wordcloud_fake = WordCloud(\n",
        "    collocation_threshold=2,\n",
        "    collocations=True,\n",
        "    background_color=\"white\",\n",
        "    colormap=\"Set1\"\n",
        ").generate(text_fake)\n",
        "\n",
        "plt.figure(figsize=(10, 5))\n",
        "\n",
        "plt.subplot(1, 2, 1)\n",
        "plt.imshow(wordcloud_real, interpolation='bilinear')\n",
        "plt.title(\"Word Cloud - real\")\n",
        "plt.axis(\"off\")\n",
        "\n",
        "plt.subplot(1, 2, 2)\n",
        "plt.imshow(wordcloud_fake, interpolation='bilinear')\n",
        "plt.title(\"Word Cloud - fake\")\n",
        "plt.axis(\"off\")\n",
        "\n",
        "plt.tight_layout()\n",
        "plt.show()"
      ]
    },
    {
      "cell_type": "markdown",
      "metadata": {
        "id": "D6loD4LN1oK2"
      },
      "source": [
        "## Data Preparing"
      ]
    },
    {
      "cell_type": "code",
      "execution_count": 13,
      "metadata": {
        "colab": {
          "base_uri": "https://localhost:8080/"
        },
        "id": "5I4EYe3uSxQT",
        "outputId": "d1242248-fc7d-4938-b44d-068b9c4d04e9"
      },
      "outputs": [
        {
          "output_type": "stream",
          "name": "stdout",
          "text": [
            "Maximum Sequence Length:  227\n"
          ]
        }
      ],
      "source": [
        "from fakenews.dataset import tokenize\n",
        "\n",
        "X_train, X_test, y_train, y_test, tokenizer = tokenize(lstm_df, proj_dir, \"lstm\")"
      ]
    },
    {
      "cell_type": "code",
      "execution_count": 14,
      "metadata": {
        "id": "Dyo9ntY5MhDs"
      },
      "outputs": [],
      "source": [
        "# Numpy to Tensors\n",
        "X_train_tensor = torch.Tensor(X_train)\n",
        "X_test_tensor = torch.Tensor(X_test)\n",
        "y_train_tensor = torch.Tensor(y_train)\n",
        "y_test_tensor = torch.Tensor(y_test)\n",
        "\n",
        "# One-hot encoding\n",
        "y_train_tensor = torch.nn.functional.one_hot(y_train_tensor.to(torch.int64), num_classes=2)\n",
        "y_test_tensor = torch.nn.functional.one_hot(y_test_tensor.to(torch.int64), num_classes=2)\n",
        "\n",
        "# TensorDatasets\n",
        "train_dataset = TensorDataset(X_train_tensor, y_train_tensor)\n",
        "test_dataset = TensorDataset(X_test_tensor, y_test_tensor)\n",
        "\n",
        "# DataLoaders\n",
        "train_loader = DataLoader(train_dataset, batch_size=64, shuffle=True)\n",
        "test_loader = DataLoader(test_dataset, batch_size=64, shuffle=False)"
      ]
    },
    {
      "cell_type": "markdown",
      "metadata": {
        "id": "WzJxVbPENcqp"
      },
      "source": [
        "## Modelling: LSTM"
      ]
    },
    {
      "cell_type": "markdown",
      "metadata": {
        "id": "1B6yWdyln7ZO"
      },
      "source": [
        "Finding best hyperparameters"
      ]
    },
    {
      "cell_type": "code",
      "execution_count": 15,
      "metadata": {
        "id": "0v5u957dQYZU",
        "colab": {
          "base_uri": "https://localhost:8080/"
        },
        "outputId": "bdfa07c5-972b-4e20-fab4-d8b52ce52fac"
      },
      "outputs": [
        {
          "output_type": "stream",
          "name": "stderr",
          "text": [
            "[I 2023-12-11 01:51:06,708] A new study created in memory with name: no-name-35c4cb52-7f31-4d84-b0fb-f8838600d338\n",
            "[I 2023-12-11 01:51:59,351] Trial 0 finished with value: 0.7831997710360619 and parameters: {'embedding_dim': 224, 'hidden_dim': 96, 'learning_rate': 0.0004176401049989584}. Best is trial 0 with value: 0.7831997710360619.\n",
            "[I 2023-12-11 01:52:28,912] Trial 1 finished with value: 0.7880652547223812 and parameters: {'embedding_dim': 160, 'hidden_dim': 32, 'learning_rate': 0.0005043626040827398}. Best is trial 1 with value: 0.7880652547223812.\n",
            "[I 2023-12-11 01:52:54,377] Trial 2 finished with value: 0.7853463079564968 and parameters: {'embedding_dim': 96, 'hidden_dim': 64, 'learning_rate': 0.001425696005976782}. Best is trial 1 with value: 0.7880652547223812.\n",
            "[I 2023-12-11 01:53:28,696] Trial 3 finished with value: 0.7872066399542073 and parameters: {'embedding_dim': 64, 'hidden_dim': 96, 'learning_rate': 0.0004734950057347814}. Best is trial 1 with value: 0.7880652547223812.\n",
            "[I 2023-12-11 01:53:53,505] Trial 4 finished with value: 0.7850601030337722 and parameters: {'embedding_dim': 256, 'hidden_dim': 32, 'learning_rate': 0.0026447662759080293}. Best is trial 1 with value: 0.7880652547223812.\n",
            "[I 2023-12-11 01:54:36,496] Trial 5 finished with value: 0.7750429307384087 and parameters: {'embedding_dim': 224, 'hidden_dim': 96, 'learning_rate': 0.005771115989332575}. Best is trial 1 with value: 0.7880652547223812.\n",
            "[I 2023-12-11 01:55:05,211] Trial 6 finished with value: 0.7786204922724671 and parameters: {'embedding_dim': 224, 'hidden_dim': 64, 'learning_rate': 0.00043871161415934664}. Best is trial 1 with value: 0.7880652547223812.\n",
            "[I 2023-12-11 01:56:12,346] Trial 7 finished with value: 0.7827704636519748 and parameters: {'embedding_dim': 160, 'hidden_dim': 128, 'learning_rate': 0.00400973790535799}. Best is trial 1 with value: 0.7880652547223812.\n",
            "[I 2023-12-11 01:57:23,556] Trial 8 finished with value: 0.7959358900973097 and parameters: {'embedding_dim': 160, 'hidden_dim': 128, 'learning_rate': 0.00047541254889183415}. Best is trial 8 with value: 0.7959358900973097.\n",
            "[I 2023-12-11 01:57:46,456] Trial 9 finished with value: 0.7804808242701774 and parameters: {'embedding_dim': 160, 'hidden_dim': 32, 'learning_rate': 0.002030072431142387}. Best is trial 8 with value: 0.7959358900973097.\n"
          ]
        },
        {
          "output_type": "stream",
          "name": "stdout",
          "text": [
            "\n",
            "Best hyperparameters: {'embedding_dim': 160, 'hidden_dim': 128, 'learning_rate': 0.00047541254889183415}\n",
            "LSTM(\n",
            "  (embedding): Embedding(5000, 160)\n",
            "  (lstm): LSTM(160, 128, batch_first=True)\n",
            "  (dropout): Dropout(p=0.2, inplace=False)\n",
            "  (lstm2): LSTM(128, 128, batch_first=True)\n",
            "  (fc): Linear(in_features=128, out_features=2, bias=True)\n",
            ")\n"
          ]
        }
      ],
      "source": [
        "from fakenews.model import LSTM\n",
        "from fakenews.optimization import lstm_objective\n",
        "\n",
        "study = optuna.create_study(direction='maximize')\n",
        "study.optimize(lambda trial: lstm_objective(trial, train_loader, test_loader, device), n_trials=10)\n",
        "best_params = study.best_params\n",
        "\n",
        "best_embedding_dim = best_params['embedding_dim']\n",
        "best_hidden_dim = best_params['hidden_dim']\n",
        "best_lr = best_params['learning_rate']\n",
        "\n",
        "print(\"\\nBest hyperparameters:\", best_params)\n",
        "\n",
        "input_dim = 5000  # Vocab size\n",
        "output_dim = 2  # Binary\n",
        "\n",
        "model = LSTM(input_dim, best_embedding_dim, best_hidden_dim, output_dim).to(device)\n",
        "optimizer = optim.Adam(model.parameters(), lr=best_lr)\n",
        "criterion = nn.CrossEntropyLoss().to(device)\n",
        "print(model)"
      ]
    },
    {
      "cell_type": "markdown",
      "metadata": {
        "id": "lFfsFNpuvlXD"
      },
      "source": [
        "Training"
      ]
    },
    {
      "cell_type": "code",
      "execution_count": 16,
      "metadata": {
        "id": "Ya5DjUa4ioG0",
        "colab": {
          "base_uri": "https://localhost:8080/"
        },
        "outputId": "5c34e29f-d40a-4f8d-c909-85bb7e3df4a2"
      },
      "outputs": [
        {
          "output_type": "stream",
          "name": "stdout",
          "text": [
            "Epoch 1, Training Loss: 0.5052, Training Accuracy: 0.7849, Validation Loss: 0.4647, Validation Accuracy: 0.8077\n",
            "Epoch 2, Training Loss: 0.4352, Training Accuracy: 0.8163, Validation Loss: 0.4363, Validation Accuracy: 0.8170\n",
            "Epoch 3, Training Loss: 0.3912, Training Accuracy: 0.8322, Validation Loss: 0.4408, Validation Accuracy: 0.8097\n",
            "Epoch 4, Training Loss: 0.3436, Training Accuracy: 0.8535, Validation Loss: 0.4700, Validation Accuracy: 0.7941\n",
            "Epoch 5, Training Loss: 0.2908, Training Accuracy: 0.8770, Validation Loss: 0.5105, Validation Accuracy: 0.8009\n",
            "Epoch 6, Training Loss: 0.2322, Training Accuracy: 0.9040, Validation Loss: 0.5868, Validation Accuracy: 0.7925\n",
            "Epoch 7, Training Loss: 0.1773, Training Accuracy: 0.9287, Validation Loss: 0.6808, Validation Accuracy: 0.7931\n",
            "Epoch 8, Training Loss: 0.1338, Training Accuracy: 0.9476, Validation Loss: 0.7722, Validation Accuracy: 0.7916\n",
            "Epoch 9, Training Loss: 0.0995, Training Accuracy: 0.9614, Validation Loss: 0.9121, Validation Accuracy: 0.7789\n",
            "Epoch 10, Training Loss: 0.0805, Training Accuracy: 0.9694, Validation Loss: 1.0143, Validation Accuracy: 0.7669\n",
            "Epoch 11, Training Loss: 0.0665, Training Accuracy: 0.9751, Validation Loss: 1.0202, Validation Accuracy: 0.7835\n",
            "Epoch 12, Training Loss: 0.0573, Training Accuracy: 0.9782, Validation Loss: 1.1749, Validation Accuracy: 0.7812\n",
            "Epoch 13, Training Loss: 0.0483, Training Accuracy: 0.9829, Validation Loss: 1.2436, Validation Accuracy: 0.7746\n",
            "Epoch 14, Training Loss: 0.0447, Training Accuracy: 0.9838, Validation Loss: 1.3147, Validation Accuracy: 0.7889\n",
            "Epoch 15, Training Loss: 0.0449, Training Accuracy: 0.9834, Validation Loss: 1.4112, Validation Accuracy: 0.7789\n",
            "Epoch 16, Training Loss: 0.0368, Training Accuracy: 0.9869, Validation Loss: 1.4558, Validation Accuracy: 0.7802\n",
            "Epoch 17, Training Loss: 0.0383, Training Accuracy: 0.9850, Validation Loss: 1.3721, Validation Accuracy: 0.7799\n",
            "Epoch 18, Training Loss: 0.0316, Training Accuracy: 0.9877, Validation Loss: 1.4922, Validation Accuracy: 0.7752\n",
            "Epoch 19, Training Loss: 0.0343, Training Accuracy: 0.9867, Validation Loss: 1.5089, Validation Accuracy: 0.7848\n",
            "Epoch 20, Training Loss: 0.0316, Training Accuracy: 0.9878, Validation Loss: 1.4324, Validation Accuracy: 0.7859\n"
          ]
        }
      ],
      "source": [
        "num_epochs = 20\n",
        "train_losses = []\n",
        "test_losses = []\n",
        "train_accuracies = []\n",
        "test_accuracies = []\n",
        "\n",
        "for epoch in range(num_epochs):\n",
        "    # Training\n",
        "    model.train()\n",
        "    total_train_loss = 0\n",
        "    correct_train_preds = 0\n",
        "    total_train = 0\n",
        "\n",
        "    for X_batch, y_batch in train_loader:\n",
        "        X_batch, y_batch = X_batch.to(device), y_batch.to(device)\n",
        "        optimizer.zero_grad()  # Clear existing gradients\n",
        "        outputs = model(X_batch.long())\n",
        "        loss = criterion(outputs, y_batch.float())\n",
        "\n",
        "        predicted = torch.argmax(torch.softmax(outputs, dim=1), dim=1)\n",
        "        true_class = y_batch.argmax(1)\n",
        "        correct_train_preds += (predicted == true_class).sum().item()\n",
        "        total_train += y_batch.size(0)\n",
        "        total_train_loss += loss.item()\n",
        "\n",
        "        loss.backward()\n",
        "        optimizer.step()\n",
        "\n",
        "    # Training accuracy and loss\n",
        "    train_accuracy = correct_train_preds / total_train\n",
        "    train_loss = total_train_loss / len(train_loader)\n",
        "    train_accuracies.append(train_accuracy)\n",
        "    train_losses.append(train_loss)\n",
        "\n",
        "    # Validation\n",
        "    model.eval()\n",
        "    total_test_loss = 0\n",
        "    correct_test_preds = 0\n",
        "    total_test = 0\n",
        "\n",
        "    with torch.no_grad():\n",
        "        for X_batch, y_batch in test_loader:\n",
        "            X_batch, y_batch = X_batch.to(device), y_batch.to(device)\n",
        "            outputs = model(X_batch.long())\n",
        "            loss = criterion(outputs, y_batch.float())\n",
        "\n",
        "            predicted = torch.argmax(torch.softmax(outputs, dim=1), dim=1)\n",
        "            true_class = y_batch.argmax(1)\n",
        "            correct_test_preds += (predicted == true_class).sum().item()\n",
        "            total_test += y_batch.size(0)\n",
        "            total_test_loss += loss.item()\n",
        "\n",
        "    # Test accuracy and loss\n",
        "    test_accuracy = correct_test_preds / total_test\n",
        "    test_loss = total_test_loss / len(test_loader)\n",
        "    test_accuracies.append(test_accuracy)\n",
        "    test_losses.append(test_loss)\n",
        "\n",
        "    print(f'Epoch {epoch+1}, Training Loss: {train_loss:.4f}, Training Accuracy: {train_accuracy:.4f}, Validation Loss: {test_loss:.4f}, Validation Accuracy: {test_accuracy:.4f}')"
      ]
    },
    {
      "cell_type": "code",
      "source": [
        "# Accuracies\n",
        "plt.figure(figsize=(10, 5))\n",
        "plt.subplot(1, 2, 1)\n",
        "plt.plot(train_accuracies, label='Training Accuracy')\n",
        "plt.plot(test_accuracies, label='Testing Accuracy')\n",
        "plt.xlabel('Epochs')\n",
        "plt.ylabel('Accuracy')\n",
        "plt.legend()\n",
        "\n",
        "# Losses\n",
        "plt.subplot(1, 2, 2)\n",
        "plt.plot(train_losses, label='Training Loss')\n",
        "plt.plot(test_losses, label='Testing Loss')\n",
        "plt.xlabel('Epochs')\n",
        "plt.ylabel('Loss')\n",
        "plt.legend()\n",
        "\n",
        "plt.tight_layout()\n",
        "plt.show()\n",
        "\n",
        "models_folder = proj_dir + '/src/models'\n",
        "os.makedirs(models_folder, exist_ok=True)\n",
        "\n",
        "torch.save({\n",
        "    'model_state_dict': model.state_dict(),\n",
        "    'input_dim': 5000,\n",
        "    'embedding_dim': best_embedding_dim,\n",
        "    'hidden_dim': best_hidden_dim,\n",
        "    'output_dim': 2\n",
        "}, 'models/lstm.pth')"
      ],
      "metadata": {
        "id": "wl3ygEYv_pap",
        "colab": {
          "base_uri": "https://localhost:8080/",
          "height": 507
        },
        "outputId": "62f0710e-c01c-4a5c-a1f2-c5baa3a9924d"
      },
      "execution_count": 17,
      "outputs": [
        {
          "output_type": "display_data",
          "data": {
            "text/plain": [
              "<Figure size 1000x500 with 2 Axes>"
            ],
            "image/png": "[encoded data removed]"
          },
          "metadata": {}
        }
      ]
    },
    {
      "cell_type": "markdown",
      "metadata": {
        "id": "0wOTyQijCa5P"
      },
      "source": [
        "# 2. Transformer Model"
      ]
    },
    {
      "cell_type": "markdown",
      "source": [
        "## Load and Preprocess data"
      ],
      "metadata": {
        "id": "BJXwwTyHPWQZ"
      }
    },
    {
      "cell_type": "code",
      "source": [
        "from fakenews.preprocess import clean_text\n",
        "\n",
        "tf_df = pd.read_csv(proj_dir+'/data/transformers.csv')\n",
        "tf_df = tf_df.drop(columns=['Unnamed: 0'])\n",
        "tf_df['text'] = tf_df['text'].map(lambda com : clean_text(com))"
      ],
      "metadata": {
        "id": "a6UzBlVCPTMK"
      },
      "execution_count": 18,
      "outputs": []
    },
    {
      "cell_type": "code",
      "source": [
        "tf_df.isnull().sum()"
      ],
      "metadata": {
        "colab": {
          "base_uri": "https://localhost:8080/"
        },
        "id": "yvIm08YLP98m",
        "outputId": "7ec60454-c571-49b9-ce90-9405f45eeac9"
      },
      "execution_count": 19,
      "outputs": [
        {
          "output_type": "execute_result",
          "data": {
            "text/plain": [
              "text     0\n",
              "label    0\n",
              "dtype: int64"
            ]
          },
          "metadata": {},
          "execution_count": 19
        }
      ]
    },
    {
      "cell_type": "markdown",
      "source": [
        "No null values in the data set"
      ],
      "metadata": {
        "id": "VOpBroYFQVeJ"
      }
    },
    {
      "cell_type": "code",
      "source": [
        "round(tf_df['label'].value_counts(normalize=True) * 100, 2)"
      ],
      "metadata": {
        "colab": {
          "base_uri": "https://localhost:8080/"
        },
        "id": "moPy_MS1QYEm",
        "outputId": "59e6ff91-13f0-4d57-9f78-3c6af9ecc42f"
      },
      "execution_count": 20,
      "outputs": [
        {
          "output_type": "execute_result",
          "data": {
            "text/plain": [
              "0    90.22\n",
              "1     9.78\n",
              "Name: label, dtype: float64"
            ]
          },
          "metadata": {},
          "execution_count": 20
        }
      ]
    },
    {
      "cell_type": "code",
      "source": [
        "# Sampling\n",
        "undersampler = RandomUnderSampler(sampling_strategy=0.5)\n",
        "oversampler = RandomOverSampler(sampling_strategy='minority')\n",
        "\n",
        "# Resampling Pipeline\n",
        "pipeline = Pipeline([\n",
        "    ('undersample', undersampler),\n",
        "    ('oversample', oversampler)\n",
        "])"
      ],
      "metadata": {
        "id": "3Z3k9D0HSz7j"
      },
      "execution_count": 21,
      "outputs": []
    },
    {
      "cell_type": "code",
      "source": [
        "X_resampled, y_resampled = pipeline.fit_resample(np.array(tf_df['text']).reshape(-1, 1), tf_df['label'])\n",
        "balanced_tf_df = pd.DataFrame()\n",
        "balanced_tf_df['text'] = X_resampled.flatten()\n",
        "balanced_tf_df['label'] = y_resampled"
      ],
      "metadata": {
        "id": "Zn6Nmls9S3As"
      },
      "execution_count": 22,
      "outputs": []
    },
    {
      "cell_type": "markdown",
      "source": [
        "## Data Preparing"
      ],
      "metadata": {
        "id": "w_QuylHmWNya"
      }
    },
    {
      "cell_type": "code",
      "source": [
        "from fakenews.dataset import tokenize, data_loaders\n",
        "\n",
        "X_train, X_test, y_train, y_test, tokenizer = tokenize(balanced_tf_df, proj_dir, \"transformer\")\n",
        "train_loader, test_loader = data_loaders(X_train, X_test, y_train, y_test)"
      ],
      "metadata": {
        "colab": {
          "base_uri": "https://localhost:8080/"
        },
        "id": "uLFii27CWPdh",
        "outputId": "a6be4236-929b-4c0b-aa90-f689fce6eae6"
      },
      "execution_count": 23,
      "outputs": [
        {
          "output_type": "stream",
          "name": "stdout",
          "text": [
            "Maximum Sequence Length:  35\n"
          ]
        }
      ]
    },
    {
      "cell_type": "markdown",
      "source": [
        "## Modelling: Bidirectional LSTM with Transformers"
      ],
      "metadata": {
        "id": "KzPX2cnhWplY"
      }
    },
    {
      "cell_type": "markdown",
      "source": [
        "Finding best hyperparameters"
      ],
      "metadata": {
        "id": "zcYWG93wq-RA"
      }
    },
    {
      "cell_type": "code",
      "source": [
        "from fakenews.model import Transformer\n",
        "from fakenews.optimization import transformer_objective\n",
        "\n",
        "study = optuna.create_study(direction='minimize')\n",
        "study.optimize(lambda trial: transformer_objective(trial, train_loader, test_loader, device), n_trials=10)\n",
        "best_params = study.best_params\n",
        "\n",
        "best_embedding_dim = best_params['embedding_dim']\n",
        "best_lstm_units_1 = best_params['lstm_units_1']\n",
        "best_dropout_1 = best_params['dropout_1']\n",
        "best_lstm_units_2 = best_params['lstm_units_2']\n",
        "best_dropout_2 = best_params['dropout_2']\n",
        "\n",
        "print(\"\\n\\nBest hyperparameters:\", best_params)\n",
        "\n",
        "input_dim = 5000  # Vocab size\n",
        "\n",
        "model = Transformer(\n",
        "      best_embedding_dim,\n",
        "      best_lstm_units_1,\n",
        "      best_dropout_1,\n",
        "      best_lstm_units_2,\n",
        "      best_dropout_2,\n",
        "      input_dim\n",
        "    ).to(device)\n",
        "optimizer = optim.Adam(model.parameters(), lr=1e-4)\n",
        "criterion = nn.CrossEntropyLoss().to(device)\n",
        "print(model)"
      ],
      "metadata": {
        "id": "92vmL9k0Y2_7",
        "colab": {
          "base_uri": "https://localhost:8080/"
        },
        "outputId": "86e6af71-63c8-45fd-98b0-ed71463d858e"
      },
      "execution_count": 24,
      "outputs": [
        {
          "output_type": "stream",
          "name": "stderr",
          "text": [
            "[I 2023-12-11 02:00:18,116] A new study created in memory with name: no-name-18106f73-d304-4c80-9cce-758ce04bc4dd\n",
            "/usr/local/lib/python3.10/dist-packages/torch/nn/modules/transformer.py:282: UserWarning: enable_nested_tensor is True, but self.use_nested_tensor is False because encoder_layer.self_attn.batch_first was not True(use batch_first for better inference performance)\n",
            "  warnings.warn(f\"enable_nested_tensor is True, but self.use_nested_tensor is False because {why_not_sparsity_fast_path}\")\n",
            "/usr/local/lib/python3.10/dist-packages/torch/nn/modules/rnn.py:82: UserWarning: dropout option adds dropout after all but last recurrent layer, so non-zero dropout expects num_layers greater than 1, but got dropout=0.2 and num_layers=1\n",
            "  warnings.warn(\"dropout option adds dropout after all but last \"\n",
            "/usr/local/lib/python3.10/dist-packages/torch/nn/modules/rnn.py:82: UserWarning: dropout option adds dropout after all but last recurrent layer, so non-zero dropout expects num_layers greater than 1, but got dropout=0.30000000000000004 and num_layers=1\n",
            "  warnings.warn(\"dropout option adds dropout after all but last \"\n",
            "[I 2023-12-11 02:00:27,088] Trial 0 finished with value: 0.4009004160761833 and parameters: {'embedding_dim': 160, 'lstm_units_1': 96, 'dropout_1': 0.2, 'lstm_units_2': 32, 'dropout_2': 0.30000000000000004}. Best is trial 0 with value: 0.4009004160761833.\n",
            "[I 2023-12-11 02:00:34,021] Trial 1 finished with value: 0.4113290086388588 and parameters: {'embedding_dim': 96, 'lstm_units_1': 96, 'dropout_1': 0.30000000000000004, 'lstm_units_2': 96, 'dropout_2': 0.30000000000000004}. Best is trial 0 with value: 0.4009004160761833.\n",
            "/usr/local/lib/python3.10/dist-packages/torch/nn/modules/rnn.py:82: UserWarning: dropout option adds dropout after all but last recurrent layer, so non-zero dropout expects num_layers greater than 1, but got dropout=0.5 and num_layers=1\n",
            "  warnings.warn(\"dropout option adds dropout after all but last \"\n",
            "[I 2023-12-11 02:00:42,641] Trial 2 finished with value: 0.42806122452020645 and parameters: {'embedding_dim': 160, 'lstm_units_1': 64, 'dropout_1': 0.5, 'lstm_units_2': 32, 'dropout_2': 0.2}. Best is trial 0 with value: 0.4009004160761833.\n",
            "[I 2023-12-11 02:00:52,345] Trial 3 finished with value: 0.44288409501314163 and parameters: {'embedding_dim': 160, 'lstm_units_1': 32, 'dropout_1': 0.5, 'lstm_units_2': 64, 'dropout_2': 0.2}. Best is trial 0 with value: 0.4009004160761833.\n",
            "/usr/local/lib/python3.10/dist-packages/torch/nn/modules/rnn.py:82: UserWarning: dropout option adds dropout after all but last recurrent layer, so non-zero dropout expects num_layers greater than 1, but got dropout=0.4 and num_layers=1\n",
            "  warnings.warn(\"dropout option adds dropout after all but last \"\n",
            "[I 2023-12-11 02:00:57,681] Trial 4 finished with value: 0.4398159384727478 and parameters: {'embedding_dim': 64, 'lstm_units_1': 128, 'dropout_1': 0.2, 'lstm_units_2': 64, 'dropout_2': 0.4}. Best is trial 0 with value: 0.4009004160761833.\n",
            "[I 2023-12-11 02:01:07,461] Trial 5 finished with value: 0.4022691249847412 and parameters: {'embedding_dim': 192, 'lstm_units_1': 64, 'dropout_1': 0.2, 'lstm_units_2': 64, 'dropout_2': 0.5}. Best is trial 0 with value: 0.4009004160761833.\n",
            "[I 2023-12-11 02:01:16,256] Trial 6 finished with value: 0.4156435802578926 and parameters: {'embedding_dim': 160, 'lstm_units_1': 64, 'dropout_1': 0.5, 'lstm_units_2': 64, 'dropout_2': 0.30000000000000004}. Best is trial 0 with value: 0.4009004160761833.\n",
            "[I 2023-12-11 02:01:23,223] Trial 7 finished with value: 0.4309561923146248 and parameters: {'embedding_dim': 128, 'lstm_units_1': 64, 'dropout_1': 0.5, 'lstm_units_2': 96, 'dropout_2': 0.30000000000000004}. Best is trial 0 with value: 0.4009004160761833.\n",
            "[I 2023-12-11 02:01:29,490] Trial 8 finished with value: 0.41604091972112656 and parameters: {'embedding_dim': 96, 'lstm_units_1': 32, 'dropout_1': 0.2, 'lstm_units_2': 128, 'dropout_2': 0.5}. Best is trial 0 with value: 0.4009004160761833.\n",
            "[I 2023-12-11 02:01:36,485] Trial 9 finished with value: 0.42132390290498734 and parameters: {'embedding_dim': 128, 'lstm_units_1': 64, 'dropout_1': 0.4, 'lstm_units_2': 32, 'dropout_2': 0.5}. Best is trial 0 with value: 0.4009004160761833.\n"
          ]
        },
        {
          "output_type": "stream",
          "name": "stdout",
          "text": [
            "\n",
            "\n",
            "Best hyperparameters: {'embedding_dim': 160, 'lstm_units_1': 96, 'dropout_1': 0.2, 'lstm_units_2': 32, 'dropout_2': 0.30000000000000004}\n",
            "Transformer(\n",
            "  (embedding): Embedding(5000, 160)\n",
            "  (transformer): Transformer(\n",
            "    (encoder): TransformerEncoder(\n",
            "      (layers): ModuleList(\n",
            "        (0-1): 2 x TransformerEncoderLayer(\n",
            "          (self_attn): MultiheadAttention(\n",
            "            (out_proj): NonDynamicallyQuantizableLinear(in_features=160, out_features=160, bias=True)\n",
            "          )\n",
            "          (linear1): Linear(in_features=160, out_features=2048, bias=True)\n",
            "          (dropout): Dropout(p=0.1, inplace=False)\n",
            "          (linear2): Linear(in_features=2048, out_features=160, bias=True)\n",
            "          (norm1): LayerNorm((160,), eps=1e-05, elementwise_affine=True)\n",
            "          (norm2): LayerNorm((160,), eps=1e-05, elementwise_affine=True)\n",
            "          (dropout1): Dropout(p=0.1, inplace=False)\n",
            "          (dropout2): Dropout(p=0.1, inplace=False)\n",
            "        )\n",
            "      )\n",
            "      (norm): LayerNorm((160,), eps=1e-05, elementwise_affine=True)\n",
            "    )\n",
            "    (decoder): TransformerDecoder(\n",
            "      (layers): ModuleList(\n",
            "        (0-1): 2 x TransformerDecoderLayer(\n",
            "          (self_attn): MultiheadAttention(\n",
            "            (out_proj): NonDynamicallyQuantizableLinear(in_features=160, out_features=160, bias=True)\n",
            "          )\n",
            "          (multihead_attn): MultiheadAttention(\n",
            "            (out_proj): NonDynamicallyQuantizableLinear(in_features=160, out_features=160, bias=True)\n",
            "          )\n",
            "          (linear1): Linear(in_features=160, out_features=2048, bias=True)\n",
            "          (dropout): Dropout(p=0.1, inplace=False)\n",
            "          (linear2): Linear(in_features=2048, out_features=160, bias=True)\n",
            "          (norm1): LayerNorm((160,), eps=1e-05, elementwise_affine=True)\n",
            "          (norm2): LayerNorm((160,), eps=1e-05, elementwise_affine=True)\n",
            "          (norm3): LayerNorm((160,), eps=1e-05, elementwise_affine=True)\n",
            "          (dropout1): Dropout(p=0.1, inplace=False)\n",
            "          (dropout2): Dropout(p=0.1, inplace=False)\n",
            "          (dropout3): Dropout(p=0.1, inplace=False)\n",
            "        )\n",
            "      )\n",
            "      (norm): LayerNorm((160,), eps=1e-05, elementwise_affine=True)\n",
            "    )\n",
            "  )\n",
            "  (lstm1): LSTM(160, 96, batch_first=True, dropout=0.2, bidirectional=True)\n",
            "  (lstm2): LSTM(192, 32, batch_first=True, dropout=0.30000000000000004, bidirectional=True)\n",
            "  (fc): Linear(in_features=64, out_features=2, bias=True)\n",
            "  (softmax): Softmax(dim=1)\n",
            ")\n"
          ]
        }
      ]
    },
    {
      "cell_type": "markdown",
      "source": [
        "Training"
      ],
      "metadata": {
        "id": "Nx5tuwKjs-eT"
      }
    },
    {
      "cell_type": "code",
      "source": [
        "num_epochs = 20\n",
        "train_losses = []\n",
        "test_losses = []\n",
        "train_accuracies = []\n",
        "test_accuracies = []\n",
        "\n",
        "for epoch in range(num_epochs):\n",
        "    # Training\n",
        "    model.train()\n",
        "    total_train_loss = 0\n",
        "    correct_train_preds = 0\n",
        "    total_train = 0\n",
        "\n",
        "    for X_batch, y_batch in train_loader:\n",
        "        X_batch, y_batch = X_batch.to(device).long(), y_batch.to(device).long()\n",
        "        optimizer.zero_grad()\n",
        "        outputs = model(X_batch)\n",
        "        loss = criterion(outputs, y_batch)\n",
        "\n",
        "        _, predicted = torch.max(outputs.data, 1)\n",
        "        correct_train_preds += (predicted == y_batch).sum().item()\n",
        "        total_train += y_batch.size(0)\n",
        "        total_train_loss += loss.item()\n",
        "\n",
        "        loss.backward()\n",
        "        optimizer.step()\n",
        "\n",
        "    # Training accuracy and loss\n",
        "    train_accuracy = correct_train_preds / total_train\n",
        "    train_loss = total_train_loss / len(train_loader)\n",
        "    train_accuracies.append(train_accuracy)\n",
        "    train_losses.append(train_loss)\n",
        "\n",
        "    # Validation\n",
        "    model.eval()\n",
        "    total_test_loss = 0\n",
        "    correct_test_preds = 0\n",
        "    total_test = 0\n",
        "\n",
        "    with torch.no_grad():\n",
        "        for X_batch, y_batch in test_loader:\n",
        "            X_batch, y_batch = X_batch.to(device).long(), y_batch.to(device).long()\n",
        "            outputs = model(X_batch)\n",
        "            loss = criterion(outputs, y_batch)\n",
        "\n",
        "            _, predicted = torch.max(outputs.data, 1)\n",
        "            correct_test_preds += (predicted == y_batch).sum().item()\n",
        "            total_test += y_batch.size(0)\n",
        "            total_test_loss += loss.item()\n",
        "\n",
        "    # Test accuracy and loss\n",
        "    test_accuracy = correct_test_preds / total_test\n",
        "    test_loss = total_test_loss / len(test_loader)\n",
        "    test_accuracies.append(test_accuracy)\n",
        "    test_losses.append(test_loss)\n",
        "\n",
        "    print(f'Epoch {epoch+1}, Training Loss: {train_loss:.4f}, Training Accuracy: {train_accuracy:.4f}, Validation Loss: {test_loss:.4f}, Validation Accuracy: {test_accuracy:.4f}')"
      ],
      "metadata": {
        "id": "pOnGETrxs-0q",
        "colab": {
          "base_uri": "https://localhost:8080/"
        },
        "outputId": "88b4090a-7689-4976-991b-5f51bfffc117"
      },
      "execution_count": 25,
      "outputs": [
        {
          "output_type": "stream",
          "name": "stdout",
          "text": [
            "Epoch 1, Training Loss: 0.6597, Training Accuracy: 0.6573, Validation Loss: 0.6831, Validation Accuracy: 0.5780\n",
            "Epoch 2, Training Loss: 0.6240, Training Accuracy: 0.6779, Validation Loss: 0.5658, Validation Accuracy: 0.7820\n",
            "Epoch 3, Training Loss: 0.5436, Training Accuracy: 0.7921, Validation Loss: 0.5075, Validation Accuracy: 0.8240\n",
            "Epoch 4, Training Loss: 0.4888, Training Accuracy: 0.8482, Validation Loss: 0.4756, Validation Accuracy: 0.8440\n",
            "Epoch 5, Training Loss: 0.4280, Training Accuracy: 0.9008, Validation Loss: 0.4273, Validation Accuracy: 0.9000\n",
            "Epoch 6, Training Loss: 0.3962, Training Accuracy: 0.9299, Validation Loss: 0.4186, Validation Accuracy: 0.9000\n",
            "Epoch 7, Training Loss: 0.4046, Training Accuracy: 0.9203, Validation Loss: 0.4940, Validation Accuracy: 0.8120\n",
            "Epoch 8, Training Loss: 0.3896, Training Accuracy: 0.9304, Validation Loss: 0.4221, Validation Accuracy: 0.8920\n",
            "Epoch 9, Training Loss: 0.3651, Training Accuracy: 0.9524, Validation Loss: 0.4101, Validation Accuracy: 0.9060\n",
            "Epoch 10, Training Loss: 0.3606, Training Accuracy: 0.9544, Validation Loss: 0.4299, Validation Accuracy: 0.8840\n",
            "Epoch 11, Training Loss: 0.3585, Training Accuracy: 0.9564, Validation Loss: 0.4233, Validation Accuracy: 0.8860\n",
            "Epoch 12, Training Loss: 0.3543, Training Accuracy: 0.9604, Validation Loss: 0.4214, Validation Accuracy: 0.8860\n",
            "Epoch 13, Training Loss: 0.3503, Training Accuracy: 0.9649, Validation Loss: 0.4091, Validation Accuracy: 0.9000\n",
            "Epoch 14, Training Loss: 0.3473, Training Accuracy: 0.9674, Validation Loss: 0.4045, Validation Accuracy: 0.9060\n",
            "Epoch 15, Training Loss: 0.3591, Training Accuracy: 0.9584, Validation Loss: 0.4771, Validation Accuracy: 0.8340\n",
            "Epoch 16, Training Loss: 0.3561, Training Accuracy: 0.9589, Validation Loss: 0.3952, Validation Accuracy: 0.9100\n",
            "Epoch 17, Training Loss: 0.3562, Training Accuracy: 0.9579, Validation Loss: 0.4006, Validation Accuracy: 0.9100\n",
            "Epoch 18, Training Loss: 0.3478, Training Accuracy: 0.9674, Validation Loss: 0.4012, Validation Accuracy: 0.9080\n",
            "Epoch 19, Training Loss: 0.3438, Training Accuracy: 0.9699, Validation Loss: 0.4032, Validation Accuracy: 0.9080\n",
            "Epoch 20, Training Loss: 0.3423, Training Accuracy: 0.9734, Validation Loss: 0.4078, Validation Accuracy: 0.9020\n"
          ]
        }
      ]
    },
    {
      "cell_type": "code",
      "source": [
        "# Accuracies\n",
        "plt.figure(figsize=(10, 5))\n",
        "plt.subplot(1, 2, 1)\n",
        "plt.plot(train_accuracies, label='Training Accuracy')\n",
        "plt.plot(test_accuracies, label='Testing Accuracy')\n",
        "plt.xlabel('Epochs')\n",
        "plt.ylabel('Accuracy')\n",
        "plt.legend()\n",
        "\n",
        "# Losses\n",
        "plt.subplot(1, 2, 2)\n",
        "plt.plot(train_losses, label='Training Loss')\n",
        "plt.plot(test_losses, label='Testing Loss')\n",
        "plt.xlabel('Epochs')\n",
        "plt.ylabel('Loss')\n",
        "plt.legend()\n",
        "\n",
        "plt.tight_layout()\n",
        "plt.show()\n",
        "\n",
        "models_folder = proj_dir + '/src/models'\n",
        "os.makedirs(models_folder, exist_ok=True)\n",
        "\n",
        "torch.save({\n",
        "    'model_state_dict': model.state_dict(),\n",
        "    'embedding_dim': best_embedding_dim,\n",
        "    'lstm_units_1': best_lstm_units_1,\n",
        "    'dropout_1': best_dropout_1,\n",
        "    'lstm_units_2': best_lstm_units_2,\n",
        "    'dropout_2': best_dropout_2,\n",
        "    'vocab_size': input_dim\n",
        "}, 'models/transformer.pth')"
      ],
      "metadata": {
        "id": "NbHwmQKY_eh7",
        "colab": {
          "base_uri": "https://localhost:8080/",
          "height": 506
        },
        "outputId": "f8be11aa-3aa5-439a-d27e-7676ab2354da"
      },
      "execution_count": 26,
      "outputs": [
        {
          "output_type": "display_data",
          "data": {
            "text/plain": [
              "<Figure size 1000x500 with 2 Axes>"
            ],
            "image/png": "[encoded data removed]"
          },
          "metadata": {}
        }
      ]
    },
    {
      "cell_type": "markdown",
      "source": [
        "# 3. BERTLSTM Model"
      ],
      "metadata": {
        "id": "T98Uknf4J6NL"
      }
    },
    {
      "cell_type": "markdown",
      "source": [
        "## Load and Preprocess data"
      ],
      "metadata": {
        "id": "EarscVT_LnQ9"
      }
    },
    {
      "cell_type": "code",
      "source": [
        "from fakenews.preprocess import clean_text\n",
        "\n",
        "tf_df = pd.read_csv(proj_dir+'/data/transformers.csv')\n",
        "tf_df = tf_df.drop(columns=['Unnamed: 0'])\n",
        "tf_df['text'] = tf_df['text'].map(lambda com : clean_text(com))"
      ],
      "metadata": {
        "id": "NZloakCbLmfr"
      },
      "execution_count": 27,
      "outputs": []
    },
    {
      "cell_type": "code",
      "source": [
        "tf_df.isnull().sum()"
      ],
      "metadata": {
        "colab": {
          "base_uri": "https://localhost:8080/"
        },
        "id": "OYrkdK1YLu6p",
        "outputId": "837725ec-80f4-45d7-ab9f-0b011c7de2c1"
      },
      "execution_count": 28,
      "outputs": [
        {
          "output_type": "execute_result",
          "data": {
            "text/plain": [
              "text     0\n",
              "label    0\n",
              "dtype: int64"
            ]
          },
          "metadata": {},
          "execution_count": 28
        }
      ]
    },
    {
      "cell_type": "markdown",
      "source": [
        "No null values in the data set"
      ],
      "metadata": {
        "id": "DFqLKyd0Lzdi"
      }
    },
    {
      "cell_type": "code",
      "source": [
        "round(tf_df['label'].value_counts(normalize=True) * 100, 2)"
      ],
      "metadata": {
        "colab": {
          "base_uri": "https://localhost:8080/"
        },
        "id": "N_7MDPEEL0PL",
        "outputId": "27eaeaa4-ac98-4af1-b798-0254e0c2a50c"
      },
      "execution_count": 29,
      "outputs": [
        {
          "output_type": "execute_result",
          "data": {
            "text/plain": [
              "0    90.22\n",
              "1     9.78\n",
              "Name: label, dtype: float64"
            ]
          },
          "metadata": {},
          "execution_count": 29
        }
      ]
    },
    {
      "cell_type": "code",
      "source": [
        "# Sampling\n",
        "undersampler = RandomUnderSampler(sampling_strategy=0.5)\n",
        "oversampler = RandomOverSampler(sampling_strategy='minority')\n",
        "\n",
        "# Resampling Pipeline\n",
        "pipeline = Pipeline([\n",
        "    ('undersample', undersampler),\n",
        "    ('oversample', oversampler)\n",
        "])"
      ],
      "metadata": {
        "id": "s6VZJ46QL4c7"
      },
      "execution_count": 30,
      "outputs": []
    },
    {
      "cell_type": "code",
      "source": [
        "X_resampled, y_resampled = pipeline.fit_resample(np.array(tf_df['text']).reshape(-1, 1), tf_df['label'])\n",
        "balanced_tf_df = pd.DataFrame()\n",
        "balanced_tf_df['text'] = X_resampled.flatten()\n",
        "balanced_tf_df['label'] = y_resampled"
      ],
      "metadata": {
        "id": "74g2L9A5L3wc"
      },
      "execution_count": 31,
      "outputs": []
    },
    {
      "cell_type": "markdown",
      "source": [
        "## Data Preparing"
      ],
      "metadata": {
        "id": "61dHTQ7pL8wu"
      }
    },
    {
      "cell_type": "code",
      "source": [
        "from fakenews.dataset import tokenize, data_loaders\n",
        "\n",
        "X_train, X_test, y_train, y_test, tokenizer = tokenize(balanced_tf_df, proj_dir, \"bert_lstm\")\n",
        "train_loader, test_loader = data_loaders(X_train, X_test, y_train, y_test)"
      ],
      "metadata": {
        "colab": {
          "base_uri": "https://localhost:8080/"
        },
        "id": "6QaQKIWILfRp",
        "outputId": "9cf6161d-5be4-48b0-bb26-b99a638e9b67"
      },
      "execution_count": 32,
      "outputs": [
        {
          "output_type": "stream",
          "name": "stdout",
          "text": [
            "Maximum Sequence Length:  35\n"
          ]
        }
      ]
    },
    {
      "cell_type": "markdown",
      "source": [
        "## Modelling: BERT LSTM"
      ],
      "metadata": {
        "id": "uK4fZ-QDKZ71"
      }
    },
    {
      "cell_type": "markdown",
      "source": [
        "Finding best hyperparameters"
      ],
      "metadata": {
        "id": "nQ0QIXq5KfeU"
      }
    },
    {
      "cell_type": "code",
      "source": [
        "from fakenews.model import BERTLSTM\n",
        "from fakenews.optimization import bertlstm_objective\n",
        "\n",
        "study = optuna.create_study(direction='minimize')\n",
        "study.optimize(lambda trial: bertlstm_objective(trial, train_loader, test_loader, device), n_trials=3)\n",
        "best_params = study.best_params\n",
        "\n",
        "best_lstm_units_1 = best_params['lstm_units_1']\n",
        "best_dropout_1 = best_params['dropout_1']\n",
        "best_lstm_units_2 = best_params['lstm_units_2']\n",
        "best_dropout_2 = best_params['dropout_2']\n",
        "\n",
        "print(\"\\n\\nBest hyperparameters:\", best_params)\n",
        "\n",
        "bert_model = BertModel.from_pretrained('bert-base-uncased').to(device)\n",
        "\n",
        "model = BERTLSTM(\n",
        "      bert_model,\n",
        "      best_lstm_units_1,\n",
        "      best_dropout_1,\n",
        "      best_lstm_units_2,\n",
        "      best_dropout_2,\n",
        "      2\n",
        "    ).to(device)\n",
        "optimizer = optim.Adam(model.parameters(), lr=1e-4)\n",
        "criterion = nn.CrossEntropyLoss().to(device)\n",
        "print(model)"
      ],
      "metadata": {
        "colab": {
          "base_uri": "https://localhost:8080/",
          "height": 1000,
          "referenced_widgets": [
            "eea72054796e4e1499ac699c24b7842a",
            "b6a115d1963d4b92a45b25e5a69ce9ab",
            "9a757d089bcd4c8cb27894aa86e67a4c",
            "8af69972938b48a9be29d66454f71bf2",
            "0337a18770194fad9d742bffd2924beb",
            "21e96a616e3b4b64befeadaac7dd3a27",
            "500da577dee64cfdbcb113a15880fe3f",
            "a6e8f33d89cd4dc5a7bbfa00e47bf78d",
            "44f5a1d8969c45aa922fa36b14f3c139",
            "096eaa8b9bc04eab95164f34316d0b7b",
            "7fba04e0305249e897efa8b7348d2b23",
            "abab233c44ea40ff9703a7b111c4f843",
            "66caa490e18d4d0db721f83b853ca81a",
            "3562494d1d774203bc84afb5b9258de2",
            "da04ee9dfdb2404bbec0c03fc6c64069",
            "47f911304f0a4b5c9e42f9c3174ec316",
            "0409c4a5465c484498a0a3139cd663c2",
            "39450b73ef4842f994927cdcafff8c85",
            "fe8804374deb40d0afdeef1aaf160821",
            "95affd6a93a048a88d7511cbc9c12e9a",
            "b5cc6728cf3142ea9cfbc82dbfa9214c",
            "d70a98876c3c4f39b7f778dfe3b1a820"
          ]
        },
        "id": "ZtZNqE2rKIK9",
        "outputId": "0e4124df-e86d-422d-efa4-82a17f4f18d3"
      },
      "execution_count": 33,
      "outputs": [
        {
          "output_type": "stream",
          "name": "stderr",
          "text": [
            "[I 2023-12-11 02:01:59,688] A new study created in memory with name: no-name-4e439d92-458b-47cc-b6ab-86d1e2b5f0c9\n"
          ]
        },
        {
          "output_type": "display_data",
          "data": {
            "text/plain": [
              "config.json:   0%|          | 0.00/570 [00:00<?, ?B/s]"
            ],
            "application/vnd.jupyter.widget-view+json": {
              "version_major": 2,
              "version_minor": 0,
              "model_id": "eea72054796e4e1499ac699c24b7842a"
            }
          },
          "metadata": {}
        },
        {
          "output_type": "display_data",
          "data": {
            "text/plain": [
              "model.safetensors:   0%|          | 0.00/440M [00:00<?, ?B/s]"
            ],
            "application/vnd.jupyter.widget-view+json": {
              "version_major": 2,
              "version_minor": 0,
              "model_id": "abab233c44ea40ff9703a7b111c4f843"
            }
          },
          "metadata": {}
        },
        {
          "output_type": "stream",
          "name": "stderr",
          "text": [
            "/usr/local/lib/python3.10/dist-packages/torch/nn/modules/rnn.py:82: UserWarning: dropout option adds dropout after all but last recurrent layer, so non-zero dropout expects num_layers greater than 1, but got dropout=0.2 and num_layers=1\n",
            "  warnings.warn(\"dropout option adds dropout after all but last \"\n",
            "/usr/local/lib/python3.10/dist-packages/torch/nn/modules/rnn.py:82: UserWarning: dropout option adds dropout after all but last recurrent layer, so non-zero dropout expects num_layers greater than 1, but got dropout=0.5 and num_layers=1\n",
            "  warnings.warn(\"dropout option adds dropout after all but last \"\n",
            "We strongly recommend passing in an `attention_mask` since your input_ids may be padded. See https://huggingface.co/docs/transformers/troubleshooting#incorrect-output-when-padding-tokens-arent-masked.\n",
            "[I 2023-12-11 02:04:09,643] Trial 0 finished with value: 0.6876199617981911 and parameters: {'lstm_units_1': 96, 'dropout_1': 0.2, 'lstm_units_2': 32, 'dropout_2': 0.5}. Best is trial 0 with value: 0.6876199617981911.\n",
            "/usr/local/lib/python3.10/dist-packages/torch/nn/modules/rnn.py:82: UserWarning: dropout option adds dropout after all but last recurrent layer, so non-zero dropout expects num_layers greater than 1, but got dropout=0.4 and num_layers=1\n",
            "  warnings.warn(\"dropout option adds dropout after all but last \"\n",
            "[I 2023-12-11 02:06:13,457] Trial 1 finished with value: 0.694212481379509 and parameters: {'lstm_units_1': 32, 'dropout_1': 0.2, 'lstm_units_2': 128, 'dropout_2': 0.4}. Best is trial 0 with value: 0.6876199617981911.\n",
            "/usr/local/lib/python3.10/dist-packages/torch/nn/modules/rnn.py:82: UserWarning: dropout option adds dropout after all but last recurrent layer, so non-zero dropout expects num_layers greater than 1, but got dropout=0.30000000000000004 and num_layers=1\n",
            "  warnings.warn(\"dropout option adds dropout after all but last \"\n",
            "[I 2023-12-11 02:08:17,399] Trial 2 finished with value: 0.6949512287974358 and parameters: {'lstm_units_1': 64, 'dropout_1': 0.4, 'lstm_units_2': 128, 'dropout_2': 0.30000000000000004}. Best is trial 0 with value: 0.6876199617981911.\n"
          ]
        },
        {
          "output_type": "stream",
          "name": "stdout",
          "text": [
            "\n",
            "\n",
            "Best hyperparameters: {'lstm_units_1': 96, 'dropout_1': 0.2, 'lstm_units_2': 32, 'dropout_2': 0.5}\n",
            "BERTLSTM(\n",
            "  (bert): BertModel(\n",
            "    (embeddings): BertEmbeddings(\n",
            "      (word_embeddings): Embedding(30522, 768, padding_idx=0)\n",
            "      (position_embeddings): Embedding(512, 768)\n",
            "      (token_type_embeddings): Embedding(2, 768)\n",
            "      (LayerNorm): LayerNorm((768,), eps=1e-12, elementwise_affine=True)\n",
            "      (dropout): Dropout(p=0.1, inplace=False)\n",
            "    )\n",
            "    (encoder): BertEncoder(\n",
            "      (layer): ModuleList(\n",
            "        (0-11): 12 x BertLayer(\n",
            "          (attention): BertAttention(\n",
            "            (self): BertSelfAttention(\n",
            "              (query): Linear(in_features=768, out_features=768, bias=True)\n",
            "              (key): Linear(in_features=768, out_features=768, bias=True)\n",
            "              (value): Linear(in_features=768, out_features=768, bias=True)\n",
            "              (dropout): Dropout(p=0.1, inplace=False)\n",
            "            )\n",
            "            (output): BertSelfOutput(\n",
            "              (dense): Linear(in_features=768, out_features=768, bias=True)\n",
            "              (LayerNorm): LayerNorm((768,), eps=1e-12, elementwise_affine=True)\n",
            "              (dropout): Dropout(p=0.1, inplace=False)\n",
            "            )\n",
            "          )\n",
            "          (intermediate): BertIntermediate(\n",
            "            (dense): Linear(in_features=768, out_features=3072, bias=True)\n",
            "            (intermediate_act_fn): GELUActivation()\n",
            "          )\n",
            "          (output): BertOutput(\n",
            "            (dense): Linear(in_features=3072, out_features=768, bias=True)\n",
            "            (LayerNorm): LayerNorm((768,), eps=1e-12, elementwise_affine=True)\n",
            "            (dropout): Dropout(p=0.1, inplace=False)\n",
            "          )\n",
            "        )\n",
            "      )\n",
            "    )\n",
            "    (pooler): BertPooler(\n",
            "      (dense): Linear(in_features=768, out_features=768, bias=True)\n",
            "      (activation): Tanh()\n",
            "    )\n",
            "  )\n",
            "  (lstm1): LSTM(768, 96, batch_first=True, dropout=0.2, bidirectional=True)\n",
            "  (lstm2): LSTM(192, 32, batch_first=True, dropout=0.5, bidirectional=True)\n",
            "  (fc): Linear(in_features=64, out_features=2, bias=True)\n",
            ")\n"
          ]
        }
      ]
    },
    {
      "cell_type": "markdown",
      "source": [
        "Training"
      ],
      "metadata": {
        "id": "8pih9UkROUqQ"
      }
    },
    {
      "cell_type": "code",
      "source": [
        "num_epochs = 20\n",
        "train_losses = []\n",
        "test_losses = []\n",
        "train_accuracies = []\n",
        "test_accuracies = []\n",
        "\n",
        "for epoch in range(num_epochs):\n",
        "    # Training\n",
        "    model.train()\n",
        "    total_train_loss = 0\n",
        "    correct_train_preds = 0\n",
        "    total_train = 0\n",
        "\n",
        "    for X_batch, y_batch in train_loader:\n",
        "        X_batch, y_batch = X_batch.to(device).long(), y_batch.to(device).long()\n",
        "        optimizer.zero_grad()\n",
        "        outputs = model(X_batch)\n",
        "        loss = criterion(outputs, y_batch)\n",
        "\n",
        "        _, predicted = torch.max(outputs.data, 1)\n",
        "        correct_train_preds += (predicted == y_batch).sum().item()\n",
        "        total_train += y_batch.size(0)\n",
        "        total_train_loss += loss.item()\n",
        "\n",
        "        loss.backward()\n",
        "        optimizer.step()\n",
        "\n",
        "    # Training accuracy and loss\n",
        "    train_accuracy = correct_train_preds / total_train\n",
        "    train_loss = total_train_loss / len(train_loader)\n",
        "    train_accuracies.append(train_accuracy)\n",
        "    train_losses.append(train_loss)\n",
        "\n",
        "    # Validation\n",
        "    model.eval()\n",
        "    total_test_loss = 0\n",
        "    correct_test_preds = 0\n",
        "    total_test = 0\n",
        "\n",
        "    with torch.no_grad():\n",
        "        for X_batch, y_batch in test_loader:\n",
        "            X_batch, y_batch = X_batch.to(device).long(), y_batch.to(device).long()\n",
        "            outputs = model(X_batch)\n",
        "            loss = criterion(outputs, y_batch)\n",
        "\n",
        "            _, predicted = torch.max(outputs.data, 1)\n",
        "            correct_test_preds += (predicted == y_batch).sum().item()\n",
        "            total_test += y_batch.size(0)\n",
        "            total_test_loss += loss.item()\n",
        "\n",
        "    # Test accuracy and loss\n",
        "    test_accuracy = correct_test_preds / total_test\n",
        "    test_loss = total_test_loss / len(test_loader)\n",
        "    test_accuracies.append(test_accuracy)\n",
        "    test_losses.append(test_loss)\n",
        "\n",
        "    print(f'Epoch {epoch+1}, Training Loss: {train_loss:.4f}, Training Accuracy: {train_accuracy:.4f}, Validation Loss: {test_loss:.4f}, Validation Accuracy: {test_accuracy:.4f}')"
      ],
      "metadata": {
        "colab": {
          "base_uri": "https://localhost:8080/"
        },
        "id": "4oWf0UoEOTkz",
        "outputId": "c4df8ca4-25cb-451d-ff9b-d784ef80b969"
      },
      "execution_count": 34,
      "outputs": [
        {
          "output_type": "stream",
          "name": "stdout",
          "text": [
            "Epoch 1, Training Loss: 0.6951, Training Accuracy: 0.4930, Validation Loss: 0.6952, Validation Accuracy: 0.4680\n",
            "Epoch 2, Training Loss: 0.6903, Training Accuracy: 0.5160, Validation Loss: 0.6894, Validation Accuracy: 0.4680\n",
            "Epoch 3, Training Loss: 0.6897, Training Accuracy: 0.4935, Validation Loss: 0.6897, Validation Accuracy: 0.4680\n",
            "Epoch 4, Training Loss: 0.6894, Training Accuracy: 0.5110, Validation Loss: 0.6880, Validation Accuracy: 0.5420\n",
            "Epoch 5, Training Loss: 0.6888, Training Accuracy: 0.5025, Validation Loss: 0.6878, Validation Accuracy: 0.4680\n",
            "Epoch 6, Training Loss: 0.6953, Training Accuracy: 0.5015, Validation Loss: 0.6989, Validation Accuracy: 0.4680\n",
            "Epoch 7, Training Loss: 0.6932, Training Accuracy: 0.5150, Validation Loss: 0.7061, Validation Accuracy: 0.4680\n",
            "Epoch 8, Training Loss: 0.6937, Training Accuracy: 0.5190, Validation Loss: 0.6912, Validation Accuracy: 0.5320\n",
            "Epoch 9, Training Loss: 0.6941, Training Accuracy: 0.4975, Validation Loss: 0.6936, Validation Accuracy: 0.4680\n",
            "Epoch 10, Training Loss: 0.6933, Training Accuracy: 0.4945, Validation Loss: 0.6943, Validation Accuracy: 0.4680\n",
            "Epoch 11, Training Loss: 0.6938, Training Accuracy: 0.4895, Validation Loss: 0.6947, Validation Accuracy: 0.4680\n",
            "Epoch 12, Training Loss: 0.6933, Training Accuracy: 0.5075, Validation Loss: 0.6932, Validation Accuracy: 0.4680\n",
            "Epoch 13, Training Loss: 0.6935, Training Accuracy: 0.4880, Validation Loss: 0.6940, Validation Accuracy: 0.4680\n",
            "Epoch 14, Training Loss: 0.6942, Training Accuracy: 0.5080, Validation Loss: 0.6953, Validation Accuracy: 0.4680\n",
            "Epoch 15, Training Loss: 0.6935, Training Accuracy: 0.4960, Validation Loss: 0.6931, Validation Accuracy: 0.5320\n",
            "Epoch 16, Training Loss: 0.6933, Training Accuracy: 0.5015, Validation Loss: 0.6950, Validation Accuracy: 0.4680\n",
            "Epoch 17, Training Loss: 0.6931, Training Accuracy: 0.5085, Validation Loss: 0.6943, Validation Accuracy: 0.4680\n",
            "Epoch 18, Training Loss: 0.6931, Training Accuracy: 0.5080, Validation Loss: 0.6941, Validation Accuracy: 0.4680\n",
            "Epoch 19, Training Loss: 0.6929, Training Accuracy: 0.5080, Validation Loss: 0.6939, Validation Accuracy: 0.4680\n",
            "Epoch 20, Training Loss: 0.6931, Training Accuracy: 0.4940, Validation Loss: 0.6941, Validation Accuracy: 0.4680\n"
          ]
        }
      ]
    },
    {
      "cell_type": "code",
      "source": [
        "# Accuracies\n",
        "plt.figure(figsize=(10, 5))\n",
        "plt.subplot(1, 2, 1)\n",
        "plt.plot(train_accuracies, label='Training Accuracy')\n",
        "plt.plot(test_accuracies, label='Testing Accuracy')\n",
        "plt.xlabel('Epochs')\n",
        "plt.ylabel('Accuracy')\n",
        "plt.legend()\n",
        "\n",
        "# Losses\n",
        "plt.subplot(1, 2, 2)\n",
        "plt.plot(train_losses, label='Training Loss')\n",
        "plt.plot(test_losses, label='Testing Loss')\n",
        "plt.xlabel('Epochs')\n",
        "plt.ylabel('Loss')\n",
        "plt.legend()\n",
        "\n",
        "plt.tight_layout()\n",
        "plt.show()\n",
        "\n",
        "\n",
        "models_folder = proj_dir + '/src/models'\n",
        "os.makedirs(models_folder, exist_ok=True)\n",
        "\n",
        "torch.save(model.state_dict(), 'models/bert_lstm.pth') # Save the model"
      ],
      "metadata": {
        "id": "lKhKpNylPY1f",
        "colab": {
          "base_uri": "https://localhost:8080/",
          "height": 507
        },
        "outputId": "af03bed3-99a5-4e20-c078-8abf174945d5"
      },
      "execution_count": 35,
      "outputs": [
        {
          "output_type": "display_data",
          "data": {
            "text/plain": [
              "<Figure size 1000x500 with 2 Axes>"
            ],
            "image/png": "[encoded data removed]"
          },
          "metadata": {}
        }
      ]
    },
    {
      "cell_type": "markdown",
      "source": [
        "# Predict"
      ],
      "metadata": {
        "id": "hdZtVj_Y9qgL"
      }
    },
    {
      "cell_type": "markdown",
      "source": [
        "In order to directly run the predictions without training again, first run the three cells in Basic setup"
      ],
      "metadata": {
        "id": "1T1_m0uRbRmS"
      }
    },
    {
      "cell_type": "code",
      "source": [
        "from fakenews.pipeline import pipeline\n",
        "\n",
        "text = \"Says Rick Perrys Pay to Play politics led him to send $899 million to an offshore call center in Bermuda, driving down enrollment in childrens health insurance\"\n",
        "print(\"The given sentence is\", pipeline(text))"
      ],
      "metadata": {
        "id": "Kh2qWDCvUlU-",
        "colab": {
          "base_uri": "https://localhost:8080/"
        },
        "outputId": "a3f3042f-6973-4360-a437-77b40ca7f892"
      },
      "execution_count": 36,
      "outputs": [
        {
          "output_type": "stream",
          "name": "stdout",
          "text": [
            "The given sentence is fake\n"
          ]
        }
      ]
    }
  ],
  "metadata": {
    "accelerator": "GPU",
    "colab": {
      "provenance": [],
      "collapsed_sections": [
        "t7rcLOc7LBOU",
        "D54S4P96OHdE",
        "jXRyI_v-HlI9",
        "D6loD4LN1oK2",
        "WzJxVbPENcqp",
        "0wOTyQijCa5P",
        "BJXwwTyHPWQZ",
        "w_QuylHmWNya",
        "EarscVT_LnQ9"
      ]
    },
    "kernelspec": {
      "display_name": "Python 3",
      "name": "python3"
    },
    "language_info": {
      "name": "python"
    },
    "widgets": {
      "application/vnd.jupyter.widget-state+json": {
        "eea72054796e4e1499ac699c24b7842a": {
          "model_module": "@jupyter-widgets/controls",
          "model_name": "HBoxModel",
          "model_module_version": "1.5.0",
          "state": {
            "_dom_classes": [],
            "_model_module": "@jupyter-widgets/controls",
            "_model_module_version": "1.5.0",
            "_model_name": "HBoxModel",
            "_view_count": null,
            "_view_module": "@jupyter-widgets/controls",
            "_view_module_version": "1.5.0",
            "_view_name": "HBoxView",
            "box_style": "",
            "children": [
              "IPY_MODEL_b6a115d1963d4b92a45b25e5a69ce9ab",
              "IPY_MODEL_9a757d089bcd4c8cb27894aa86e67a4c",
              "IPY_MODEL_8af69972938b48a9be29d66454f71bf2"
            ],
            "layout": "IPY_MODEL_0337a18770194fad9d742bffd2924beb"
          }
        },
        "b6a115d1963d4b92a45b25e5a69ce9ab": {
          "model_module": "@jupyter-widgets/controls",
          "model_name": "HTMLModel",
          "model_module_version": "1.5.0",
          "state": {
            "_dom_classes": [],
            "_model_module": "@jupyter-widgets/controls",
            "_model_module_version": "1.5.0",
            "_model_name": "HTMLModel",
            "_view_count": null,
            "_view_module": "@jupyter-widgets/controls",
            "_view_module_version": "1.5.0",
            "_view_name": "HTMLView",
            "description": "",
            "description_tooltip": null,
            "layout": "IPY_MODEL_21e96a616e3b4b64befeadaac7dd3a27",
            "placeholder": "​",
            "style": "IPY_MODEL_500da577dee64cfdbcb113a15880fe3f",
            "value": "config.json: 100%"
          }
        },
        "9a757d089bcd4c8cb27894aa86e67a4c": {
          "model_module": "@jupyter-widgets/controls",
          "model_name": "FloatProgressModel",
          "model_module_version": "1.5.0",
          "state": {
            "_dom_classes": [],
            "_model_module": "@jupyter-widgets/controls",
            "_model_module_version": "1.5.0",
            "_model_name": "FloatProgressModel",
            "_view_count": null,
            "_view_module": "@jupyter-widgets/controls",
            "_view_module_version": "1.5.0",
            "_view_name": "ProgressView",
            "bar_style": "success",
            "description": "",
            "description_tooltip": null,
            "layout": "IPY_MODEL_a6e8f33d89cd4dc5a7bbfa00e47bf78d",
            "max": 570,
            "min": 0,
            "orientation": "horizontal",
            "style": "IPY_MODEL_44f5a1d8969c45aa922fa36b14f3c139",
            "value": 570
          }
        },
        "8af69972938b48a9be29d66454f71bf2": {
          "model_module": "@jupyter-widgets/controls",
          "model_name": "HTMLModel",
          "model_module_version": "1.5.0",
          "state": {
            "_dom_classes": [],
            "_model_module": "@jupyter-widgets/controls",
            "_model_module_version": "1.5.0",
            "_model_name": "HTMLModel",
            "_view_count": null,
            "_view_module": "@jupyter-widgets/controls",
            "_view_module_version": "1.5.0",
            "_view_name": "HTMLView",
            "description": "",
            "description_tooltip": null,
            "layout": "IPY_MODEL_096eaa8b9bc04eab95164f34316d0b7b",
            "placeholder": "​",
            "style": "IPY_MODEL_7fba04e0305249e897efa8b7348d2b23",
            "value": " 570/570 [00:00&lt;00:00, 29.3kB/s]"
          }
        },
        "0337a18770194fad9d742bffd2924beb": {
          "model_module": "@jupyter-widgets/base",
          "model_name": "LayoutModel",
          "model_module_version": "1.2.0",
          "state": {
            "_model_module": "@jupyter-widgets/base",
            "_model_module_version": "1.2.0",
            "_model_name": "LayoutModel",
            "_view_count": null,
            "_view_module": "@jupyter-widgets/base",
            "_view_module_version": "1.2.0",
            "_view_name": "LayoutView",
            "align_content": null,
            "align_items": null,
            "align_self": null,
            "border": null,
            "bottom": null,
            "display": null,
            "flex": null,
            "flex_flow": null,
            "grid_area": null,
            "grid_auto_columns": null,
            "grid_auto_flow": null,
            "grid_auto_rows": null,
            "grid_column": null,
            "grid_gap": null,
            "grid_row": null,
            "grid_template_areas": null,
            "grid_template_columns": null,
            "grid_template_rows": null,
            "height": null,
            "justify_content": null,
            "justify_items": null,
            "left": null,
            "margin": null,
            "max_height": null,
            "max_width": null,
            "min_height": null,
            "min_width": null,
            "object_fit": null,
            "object_position": null,
            "order": null,
            "overflow": null,
            "overflow_x": null,
            "overflow_y": null,
            "padding": null,
            "right": null,
            "top": null,
            "visibility": null,
            "width": null
          }
        },
        "21e96a616e3b4b64befeadaac7dd3a27": {
          "model_module": "@jupyter-widgets/base",
          "model_name": "LayoutModel",
          "model_module_version": "1.2.0",
          "state": {
            "_model_module": "@jupyter-widgets/base",
            "_model_module_version": "1.2.0",
            "_model_name": "LayoutModel",
            "_view_count": null,
            "_view_module": "@jupyter-widgets/base",
            "_view_module_version": "1.2.0",
            "_view_name": "LayoutView",
            "align_content": null,
            "align_items": null,
            "align_self": null,
            "border": null,
            "bottom": null,
            "display": null,
            "flex": null,
            "flex_flow": null,
            "grid_area": null,
            "grid_auto_columns": null,
            "grid_auto_flow": null,
            "grid_auto_rows": null,
            "grid_column": null,
            "grid_gap": null,
            "grid_row": null,
            "grid_template_areas": null,
            "grid_template_columns": null,
            "grid_template_rows": null,
            "height": null,
            "justify_content": null,
            "justify_items": null,
            "left": null,
            "margin": null,
            "max_height": null,
            "max_width": null,
            "min_height": null,
            "min_width": null,
            "object_fit": null,
            "object_position": null,
            "order": null,
            "overflow": null,
            "overflow_x": null,
            "overflow_y": null,
            "padding": null,
            "right": null,
            "top": null,
            "visibility": null,
            "width": null
          }
        },
        "500da577dee64cfdbcb113a15880fe3f": {
          "model_module": "@jupyter-widgets/controls",
          "model_name": "DescriptionStyleModel",
          "model_module_version": "1.5.0",
          "state": {
            "_model_module": "@jupyter-widgets/controls",
            "_model_module_version": "1.5.0",
            "_model_name": "DescriptionStyleModel",
            "_view_count": null,
            "_view_module": "@jupyter-widgets/base",
            "_view_module_version": "1.2.0",
            "_view_name": "StyleView",
            "description_width": ""
          }
        },
        "a6e8f33d89cd4dc5a7bbfa00e47bf78d": {
          "model_module": "@jupyter-widgets/base",
          "model_name": "LayoutModel",
          "model_module_version": "1.2.0",
          "state": {
            "_model_module": "@jupyter-widgets/base",
            "_model_module_version": "1.2.0",
            "_model_name": "LayoutModel",
            "_view_count": null,
            "_view_module": "@jupyter-widgets/base",
            "_view_module_version": "1.2.0",
            "_view_name": "LayoutView",
            "align_content": null,
            "align_items": null,
            "align_self": null,
            "border": null,
            "bottom": null,
            "display": null,
            "flex": null,
            "flex_flow": null,
            "grid_area": null,
            "grid_auto_columns": null,
            "grid_auto_flow": null,
            "grid_auto_rows": null,
            "grid_column": null,
            "grid_gap": null,
            "grid_row": null,
            "grid_template_areas": null,
            "grid_template_columns": null,
            "grid_template_rows": null,
            "height": null,
            "justify_content": null,
            "justify_items": null,
            "left": null,
            "margin": null,
            "max_height": null,
            "max_width": null,
            "min_height": null,
            "min_width": null,
            "object_fit": null,
            "object_position": null,
            "order": null,
            "overflow": null,
            "overflow_x": null,
            "overflow_y": null,
            "padding": null,
            "right": null,
            "top": null,
            "visibility": null,
            "width": null
          }
        },
        "44f5a1d8969c45aa922fa36b14f3c139": {
          "model_module": "@jupyter-widgets/controls",
          "model_name": "ProgressStyleModel",
          "model_module_version": "1.5.0",
          "state": {
            "_model_module": "@jupyter-widgets/controls",
            "_model_module_version": "1.5.0",
            "_model_name": "ProgressStyleModel",
            "_view_count": null,
            "_view_module": "@jupyter-widgets/base",
            "_view_module_version": "1.2.0",
            "_view_name": "StyleView",
            "bar_color": null,
            "description_width": ""
          }
        },
        "096eaa8b9bc04eab95164f34316d0b7b": {
          "model_module": "@jupyter-widgets/base",
          "model_name": "LayoutModel",
          "model_module_version": "1.2.0",
          "state": {
            "_model_module": "@jupyter-widgets/base",
            "_model_module_version": "1.2.0",
            "_model_name": "LayoutModel",
            "_view_count": null,
            "_view_module": "@jupyter-widgets/base",
            "_view_module_version": "1.2.0",
            "_view_name": "LayoutView",
            "align_content": null,
            "align_items": null,
            "align_self": null,
            "border": null,
            "bottom": null,
            "display": null,
            "flex": null,
            "flex_flow": null,
            "grid_area": null,
            "grid_auto_columns": null,
            "grid_auto_flow": null,
            "grid_auto_rows": null,
            "grid_column": null,
            "grid_gap": null,
            "grid_row": null,
            "grid_template_areas": null,
            "grid_template_columns": null,
            "grid_template_rows": null,
            "height": null,
            "justify_content": null,
            "justify_items": null,
            "left": null,
            "margin": null,
            "max_height": null,
            "max_width": null,
            "min_height": null,
            "min_width": null,
            "object_fit": null,
            "object_position": null,
            "order": null,
            "overflow": null,
            "overflow_x": null,
            "overflow_y": null,
            "padding": null,
            "right": null,
            "top": null,
            "visibility": null,
            "width": null
          }
        },
        "7fba04e0305249e897efa8b7348d2b23": {
          "model_module": "@jupyter-widgets/controls",
          "model_name": "DescriptionStyleModel",
          "model_module_version": "1.5.0",
          "state": {
            "_model_module": "@jupyter-widgets/controls",
            "_model_module_version": "1.5.0",
            "_model_name": "DescriptionStyleModel",
            "_view_count": null,
            "_view_module": "@jupyter-widgets/base",
            "_view_module_version": "1.2.0",
            "_view_name": "StyleView",
            "description_width": ""
          }
        },
        "abab233c44ea40ff9703a7b111c4f843": {
          "model_module": "@jupyter-widgets/controls",
          "model_name": "HBoxModel",
          "model_module_version": "1.5.0",
          "state": {
            "_dom_classes": [],
            "_model_module": "@jupyter-widgets/controls",
            "_model_module_version": "1.5.0",
            "_model_name": "HBoxModel",
            "_view_count": null,
            "_view_module": "@jupyter-widgets/controls",
            "_view_module_version": "1.5.0",
            "_view_name": "HBoxView",
            "box_style": "",
            "children": [
              "IPY_MODEL_66caa490e18d4d0db721f83b853ca81a",
              "IPY_MODEL_3562494d1d774203bc84afb5b9258de2",
              "IPY_MODEL_da04ee9dfdb2404bbec0c03fc6c64069"
            ],
            "layout": "IPY_MODEL_47f911304f0a4b5c9e42f9c3174ec316"
          }
        },
        "66caa490e18d4d0db721f83b853ca81a": {
          "model_module": "@jupyter-widgets/controls",
          "model_name": "HTMLModel",
          "model_module_version": "1.5.0",
          "state": {
            "_dom_classes": [],
            "_model_module": "@jupyter-widgets/controls",
            "_model_module_version": "1.5.0",
            "_model_name": "HTMLModel",
            "_view_count": null,
            "_view_module": "@jupyter-widgets/controls",
            "_view_module_version": "1.5.0",
            "_view_name": "HTMLView",
            "description": "",
            "description_tooltip": null,
            "layout": "IPY_MODEL_0409c4a5465c484498a0a3139cd663c2",
            "placeholder": "​",
            "style": "IPY_MODEL_39450b73ef4842f994927cdcafff8c85",
            "value": "model.safetensors: 100%"
          }
        },
        "3562494d1d774203bc84afb5b9258de2": {
          "model_module": "@jupyter-widgets/controls",
          "model_name": "FloatProgressModel",
          "model_module_version": "1.5.0",
          "state": {
            "_dom_classes": [],
            "_model_module": "@jupyter-widgets/controls",
            "_model_module_version": "1.5.0",
            "_model_name": "FloatProgressModel",
            "_view_count": null,
            "_view_module": "@jupyter-widgets/controls",
            "_view_module_version": "1.5.0",
            "_view_name": "ProgressView",
            "bar_style": "success",
            "description": "",
            "description_tooltip": null,
            "layout": "IPY_MODEL_fe8804374deb40d0afdeef1aaf160821",
            "max": 440449768,
            "min": 0,
            "orientation": "horizontal",
            "style": "IPY_MODEL_95affd6a93a048a88d7511cbc9c12e9a",
            "value": 440449768
          }
        },
        "da04ee9dfdb2404bbec0c03fc6c64069": {
          "model_module": "@jupyter-widgets/controls",
          "model_name": "HTMLModel",
          "model_module_version": "1.5.0",
          "state": {
            "_dom_classes": [],
            "_model_module": "@jupyter-widgets/controls",
            "_model_module_version": "1.5.0",
            "_model_name": "HTMLModel",
            "_view_count": null,
            "_view_module": "@jupyter-widgets/controls",
            "_view_module_version": "1.5.0",
            "_view_name": "HTMLView",
            "description": "",
            "description_tooltip": null,
            "layout": "IPY_MODEL_b5cc6728cf3142ea9cfbc82dbfa9214c",
            "placeholder": "​",
            "style": "IPY_MODEL_d70a98876c3c4f39b7f778dfe3b1a820",
            "value": " 440M/440M [00:05&lt;00:00, 174MB/s]"
          }
        },
        "47f911304f0a4b5c9e42f9c3174ec316": {
          "model_module": "@jupyter-widgets/base",
          "model_name": "LayoutModel",
          "model_module_version": "1.2.0",
          "state": {
            "_model_module": "@jupyter-widgets/base",
            "_model_module_version": "1.2.0",
            "_model_name": "LayoutModel",
            "_view_count": null,
            "_view_module": "@jupyter-widgets/base",
            "_view_module_version": "1.2.0",
            "_view_name": "LayoutView",
            "align_content": null,
            "align_items": null,
            "align_self": null,
            "border": null,
            "bottom": null,
            "display": null,
            "flex": null,
            "flex_flow": null,
            "grid_area": null,
            "grid_auto_columns": null,
            "grid_auto_flow": null,
            "grid_auto_rows": null,
            "grid_column": null,
            "grid_gap": null,
            "grid_row": null,
            "grid_template_areas": null,
            "grid_template_columns": null,
            "grid_template_rows": null,
            "height": null,
            "justify_content": null,
            "justify_items": null,
            "left": null,
            "margin": null,
            "max_height": null,
            "max_width": null,
            "min_height": null,
            "min_width": null,
            "object_fit": null,
            "object_position": null,
            "order": null,
            "overflow": null,
            "overflow_x": null,
            "overflow_y": null,
            "padding": null,
            "right": null,
            "top": null,
            "visibility": null,
            "width": null
          }
        },
        "0409c4a5465c484498a0a3139cd663c2": {
          "model_module": "@jupyter-widgets/base",
          "model_name": "LayoutModel",
          "model_module_version": "1.2.0",
          "state": {
            "_model_module": "@jupyter-widgets/base",
            "_model_module_version": "1.2.0",
            "_model_name": "LayoutModel",
            "_view_count": null,
            "_view_module": "@jupyter-widgets/base",
            "_view_module_version": "1.2.0",
            "_view_name": "LayoutView",
            "align_content": null,
            "align_items": null,
            "align_self": null,
            "border": null,
            "bottom": null,
            "display": null,
            "flex": null,
            "flex_flow": null,
            "grid_area": null,
            "grid_auto_columns": null,
            "grid_auto_flow": null,
            "grid_auto_rows": null,
            "grid_column": null,
            "grid_gap": null,
            "grid_row": null,
            "grid_template_areas": null,
            "grid_template_columns": null,
            "grid_template_rows": null,
            "height": null,
            "justify_content": null,
            "justify_items": null,
            "left": null,
            "margin": null,
            "max_height": null,
            "max_width": null,
            "min_height": null,
            "min_width": null,
            "object_fit": null,
            "object_position": null,
            "order": null,
            "overflow": null,
            "overflow_x": null,
            "overflow_y": null,
            "padding": null,
            "right": null,
            "top": null,
            "visibility": null,
            "width": null
          }
        },
        "39450b73ef4842f994927cdcafff8c85": {
          "model_module": "@jupyter-widgets/controls",
          "model_name": "DescriptionStyleModel",
          "model_module_version": "1.5.0",
          "state": {
            "_model_module": "@jupyter-widgets/controls",
            "_model_module_version": "1.5.0",
            "_model_name": "DescriptionStyleModel",
            "_view_count": null,
            "_view_module": "@jupyter-widgets/base",
            "_view_module_version": "1.2.0",
            "_view_name": "StyleView",
            "description_width": ""
          }
        },
        "fe8804374deb40d0afdeef1aaf160821": {
          "model_module": "@jupyter-widgets/base",
          "model_name": "LayoutModel",
          "model_module_version": "1.2.0",
          "state": {
            "_model_module": "@jupyter-widgets/base",
            "_model_module_version": "1.2.0",
            "_model_name": "LayoutModel",
            "_view_count": null,
            "_view_module": "@jupyter-widgets/base",
            "_view_module_version": "1.2.0",
            "_view_name": "LayoutView",
            "align_content": null,
            "align_items": null,
            "align_self": null,
            "border": null,
            "bottom": null,
            "display": null,
            "flex": null,
            "flex_flow": null,
            "grid_area": null,
            "grid_auto_columns": null,
            "grid_auto_flow": null,
            "grid_auto_rows": null,
            "grid_column": null,
            "grid_gap": null,
            "grid_row": null,
            "grid_template_areas": null,
            "grid_template_columns": null,
            "grid_template_rows": null,
            "height": null,
            "justify_content": null,
            "justify_items": null,
            "left": null,
            "margin": null,
            "max_height": null,
            "max_width": null,
            "min_height": null,
            "min_width": null,
            "object_fit": null,
            "object_position": null,
            "order": null,
            "overflow": null,
            "overflow_x": null,
            "overflow_y": null,
            "padding": null,
            "right": null,
            "top": null,
            "visibility": null,
            "width": null
          }
        },
        "95affd6a93a048a88d7511cbc9c12e9a": {
          "model_module": "@jupyter-widgets/controls",
          "model_name": "ProgressStyleModel",
          "model_module_version": "1.5.0",
          "state": {
            "_model_module": "@jupyter-widgets/controls",
            "_model_module_version": "1.5.0",
            "_model_name": "ProgressStyleModel",
            "_view_count": null,
            "_view_module": "@jupyter-widgets/base",
            "_view_module_version": "1.2.0",
            "_view_name": "StyleView",
            "bar_color": null,
            "description_width": ""
          }
        },
        "b5cc6728cf3142ea9cfbc82dbfa9214c": {
          "model_module": "@jupyter-widgets/base",
          "model_name": "LayoutModel",
          "model_module_version": "1.2.0",
          "state": {
            "_model_module": "@jupyter-widgets/base",
            "_model_module_version": "1.2.0",
            "_model_name": "LayoutModel",
            "_view_count": null,
            "_view_module": "@jupyter-widgets/base",
            "_view_module_version": "1.2.0",
            "_view_name": "LayoutView",
            "align_content": null,
            "align_items": null,
            "align_self": null,
            "border": null,
            "bottom": null,
            "display": null,
            "flex": null,
            "flex_flow": null,
            "grid_area": null,
            "grid_auto_columns": null,
            "grid_auto_flow": null,
            "grid_auto_rows": null,
            "grid_column": null,
            "grid_gap": null,
            "grid_row": null,
            "grid_template_areas": null,
            "grid_template_columns": null,
            "grid_template_rows": null,
            "height": null,
            "justify_content": null,
            "justify_items": null,
            "left": null,
            "margin": null,
            "max_height": null,
            "max_width": null,
            "min_height": null,
            "min_width": null,
            "object_fit": null,
            "object_position": null,
            "order": null,
            "overflow": null,
            "overflow_x": null,
            "overflow_y": null,
            "padding": null,
            "right": null,
            "top": null,
            "visibility": null,
            "width": null
          }
        },
        "d70a98876c3c4f39b7f778dfe3b1a820": {
          "model_module": "@jupyter-widgets/controls",
          "model_name": "DescriptionStyleModel",
          "model_module_version": "1.5.0",
          "state": {
            "_model_module": "@jupyter-widgets/controls",
            "_model_module_version": "1.5.0",
            "_model_name": "DescriptionStyleModel",
            "_view_count": null,
            "_view_module": "@jupyter-widgets/base",
            "_view_module_version": "1.2.0",
            "_view_name": "StyleView",
            "description_width": ""
          }
        }
      }
    }
  },
  "nbformat": 4,
  "nbformat_minor": 0
}